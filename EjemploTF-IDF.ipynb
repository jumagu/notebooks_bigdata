{
 "cells": [
  {
   "cell_type": "code",
   "execution_count": 1,
   "metadata": {
    "executionInfo": {
     "elapsed": 348,
     "status": "ok",
     "timestamp": 1662395286408,
     "user": {
      "displayName": "Julián Monsalve",
      "userId": "18332013709556430768"
     },
     "user_tz": 300
    },
    "id": "WJdJ0UIhetQW"
   },
   "outputs": [],
   "source": [
    "import pandas as pd\n",
    "import numpy as np"
   ]
  },
  {
   "cell_type": "code",
   "execution_count": 2,
   "metadata": {
    "executionInfo": {
     "elapsed": 3,
     "status": "ok",
     "timestamp": 1662395303187,
     "user": {
      "displayName": "Julián Monsalve",
      "userId": "18332013709556430768"
     },
     "user_tz": 300
    },
    "id": "bBRAab_rexOq"
   },
   "outputs": [],
   "source": [
    "corpus = ['data science is one of the most important fields of science',\n",
    "          'this is one of the best data science courses',\n",
    "          'data scientists analyze data' ]"
   ]
  },
  {
   "cell_type": "code",
   "execution_count": 3,
   "metadata": {
    "colab": {
     "base_uri": "https://localhost:8080/"
    },
    "executionInfo": {
     "elapsed": 494,
     "status": "ok",
     "timestamp": 1662395316958,
     "user": {
      "displayName": "Julián Monsalve",
      "userId": "18332013709556430768"
     },
     "user_tz": 300
    },
    "id": "31ZAIvWHe1LE",
    "outputId": "61a8ddb3-1a2c-4825-eba7-46b1205b37d1"
   },
   "outputs": [
    {
     "data": {
      "text/plain": [
       "['data science is one of the most important fields of science',\n",
       " 'this is one of the best data science courses',\n",
       " 'data scientists analyze data']"
      ]
     },
     "execution_count": 3,
     "metadata": {},
     "output_type": "execute_result"
    }
   ],
   "source": [
    "corpus"
   ]
  },
  {
   "cell_type": "code",
   "execution_count": 4,
   "metadata": {
    "colab": {
     "base_uri": "https://localhost:8080/"
    },
    "executionInfo": {
     "elapsed": 263,
     "status": "ok",
     "timestamp": 1662395340324,
     "user": {
      "displayName": "Julián Monsalve",
      "userId": "18332013709556430768"
     },
     "user_tz": 300
    },
    "id": "2l-GlcMLe4Ki",
    "outputId": "83729ba7-399c-4553-9734-a88e72ba92e0",
    "scrolled": true
   },
   "outputs": [
    {
     "name": "stdout",
     "output_type": "stream",
     "text": [
      "Number of words in the corpus: 14\n",
      "The words in the corpus: \n",
      " {'fields', 'most', 'analyze', 'important', 'courses', 'science', 'data', 'one', 'this', 'is', 'the', 'scientists', 'of', 'best'}\n"
     ]
    }
   ],
   "source": [
    "words_set = set()\n",
    "\n",
    "for doc in  corpus:\n",
    "    words = doc.split(' ')\n",
    "    words_set = words_set.union(set(words))\n",
    "    \n",
    "print('Number of words in the corpus:',len(words_set))\n",
    "print('The words in the corpus: \\n', words_set)"
   ]
  },
  {
   "cell_type": "markdown",
   "metadata": {
    "id": "cwVHm6L8fYSF"
   },
   "source": [
    "**Cómputo de la frecuencia del término**\n",
    "Ahora podemos crear un marco de datos por la cantidad de documentos en el corpus y el conjunto de palabras, y usar esa información para calcular la frecuencia del término (TF):"
   ]
  },
  {
   "cell_type": "markdown",
   "metadata": {
    "id": "5Ea-JncxfCnv"
   },
   "source": [
    "**A continuación, crearemos un conjunto de palabras para el corpus:**"
   ]
  },
  {
   "cell_type": "code",
   "execution_count": 5,
   "metadata": {
    "colab": {
     "base_uri": "https://localhost:8080/",
     "height": 143
    },
    "executionInfo": {
     "elapsed": 258,
     "status": "ok",
     "timestamp": 1662395434464,
     "user": {
      "displayName": "Julián Monsalve",
      "userId": "18332013709556430768"
     },
     "user_tz": 300
    },
    "id": "kmVwd1C2fTFM",
    "outputId": "d8d2a5ef-d9fe-4490-d445-530930d7f305"
   },
   "outputs": [
    {
     "data": {
      "text/html": [
       "<div>\n",
       "<style scoped>\n",
       "    .dataframe tbody tr th:only-of-type {\n",
       "        vertical-align: middle;\n",
       "    }\n",
       "\n",
       "    .dataframe tbody tr th {\n",
       "        vertical-align: top;\n",
       "    }\n",
       "\n",
       "    .dataframe thead th {\n",
       "        text-align: right;\n",
       "    }\n",
       "</style>\n",
       "<table border=\"1\" class=\"dataframe\">\n",
       "  <thead>\n",
       "    <tr style=\"text-align: right;\">\n",
       "      <th></th>\n",
       "      <th>fields</th>\n",
       "      <th>most</th>\n",
       "      <th>analyze</th>\n",
       "      <th>important</th>\n",
       "      <th>courses</th>\n",
       "      <th>science</th>\n",
       "      <th>data</th>\n",
       "      <th>one</th>\n",
       "      <th>this</th>\n",
       "      <th>is</th>\n",
       "      <th>the</th>\n",
       "      <th>scientists</th>\n",
       "      <th>of</th>\n",
       "      <th>best</th>\n",
       "    </tr>\n",
       "  </thead>\n",
       "  <tbody>\n",
       "    <tr>\n",
       "      <th>0</th>\n",
       "      <td>0.090909</td>\n",
       "      <td>0.090909</td>\n",
       "      <td>0.00</td>\n",
       "      <td>0.090909</td>\n",
       "      <td>0.000000</td>\n",
       "      <td>0.181818</td>\n",
       "      <td>0.090909</td>\n",
       "      <td>0.090909</td>\n",
       "      <td>0.000000</td>\n",
       "      <td>0.090909</td>\n",
       "      <td>0.090909</td>\n",
       "      <td>0.00</td>\n",
       "      <td>0.181818</td>\n",
       "      <td>0.000000</td>\n",
       "    </tr>\n",
       "    <tr>\n",
       "      <th>1</th>\n",
       "      <td>0.000000</td>\n",
       "      <td>0.000000</td>\n",
       "      <td>0.00</td>\n",
       "      <td>0.000000</td>\n",
       "      <td>0.111111</td>\n",
       "      <td>0.111111</td>\n",
       "      <td>0.111111</td>\n",
       "      <td>0.111111</td>\n",
       "      <td>0.111111</td>\n",
       "      <td>0.111111</td>\n",
       "      <td>0.111111</td>\n",
       "      <td>0.00</td>\n",
       "      <td>0.111111</td>\n",
       "      <td>0.111111</td>\n",
       "    </tr>\n",
       "    <tr>\n",
       "      <th>2</th>\n",
       "      <td>0.000000</td>\n",
       "      <td>0.000000</td>\n",
       "      <td>0.25</td>\n",
       "      <td>0.000000</td>\n",
       "      <td>0.000000</td>\n",
       "      <td>0.000000</td>\n",
       "      <td>0.500000</td>\n",
       "      <td>0.000000</td>\n",
       "      <td>0.000000</td>\n",
       "      <td>0.000000</td>\n",
       "      <td>0.000000</td>\n",
       "      <td>0.25</td>\n",
       "      <td>0.000000</td>\n",
       "      <td>0.000000</td>\n",
       "    </tr>\n",
       "  </tbody>\n",
       "</table>\n",
       "</div>"
      ],
      "text/plain": [
       "     fields      most  analyze  important   courses   science      data  \\\n",
       "0  0.090909  0.090909     0.00   0.090909  0.000000  0.181818  0.090909   \n",
       "1  0.000000  0.000000     0.00   0.000000  0.111111  0.111111  0.111111   \n",
       "2  0.000000  0.000000     0.25   0.000000  0.000000  0.000000  0.500000   \n",
       "\n",
       "        one      this        is       the  scientists        of      best  \n",
       "0  0.090909  0.000000  0.090909  0.090909        0.00  0.181818  0.000000  \n",
       "1  0.111111  0.111111  0.111111  0.111111        0.00  0.111111  0.111111  \n",
       "2  0.000000  0.000000  0.000000  0.000000        0.25  0.000000  0.000000  "
      ]
     },
     "execution_count": 5,
     "metadata": {},
     "output_type": "execute_result"
    }
   ],
   "source": [
    "n_docs = len(corpus)         #·Number of documents in the corpus\n",
    "n_words_set = len(words_set) #·Number of unique words in the \n",
    "\n",
    "df_tf = pd.DataFrame(np.zeros((n_docs, n_words_set)), columns=words_set)\n",
    "\n",
    "# Compute Term Frequency (TF)\n",
    "for i in range(n_docs):\n",
    "    words = corpus[i].split(' ') # Words in the document\n",
    "    for w in words:\n",
    "        df_tf[w][i] = df_tf[w][i] + (1 / len(words))\n",
    "        \n",
    "df_tf"
   ]
  },
  {
   "cell_type": "markdown",
   "metadata": {
    "id": "t9XdRwkkfkI5"
   },
   "source": [
    "El dataframe anterior muestra que tenemos una columna para cada palabra y una fila para cada documento. Esto muestra la frecuencia de cada palabra en cada documento."
   ]
  },
  {
   "cell_type": "markdown",
   "metadata": {
    "id": "xTCzbQTffxzo"
   },
   "source": [
    "**Ahora, calcularemos la frecuencia inversa del documento (IDF):**"
   ]
  },
  {
   "cell_type": "code",
   "execution_count": 6,
   "metadata": {
    "colab": {
     "base_uri": "https://localhost:8080/"
    },
    "executionInfo": {
     "elapsed": 426,
     "status": "ok",
     "timestamp": 1662395613756,
     "user": {
      "displayName": "Julián Monsalve",
      "userId": "18332013709556430768"
     },
     "user_tz": 300
    },
    "id": "3_MTkbVIfncS",
    "outputId": "40c13ac8-1156-4e18-8b83-3e9040043342"
   },
   "outputs": [
    {
     "name": "stdout",
     "output_type": "stream",
     "text": [
      "IDF of: \n",
      "        science: 0.17609125905568124\n",
      "             is: 0.17609125905568124\n",
      "         fields: 0.47712125471966244\n",
      "      important: 0.47712125471966244\n",
      "        courses: 0.47712125471966244\n",
      "     scientists: 0.47712125471966244\n",
      "           best: 0.47712125471966244\n",
      "           data:        0.0\n",
      "           this: 0.47712125471966244\n",
      "            the: 0.17609125905568124\n",
      "            one: 0.17609125905568124\n",
      "             of: 0.17609125905568124\n",
      "        analyze: 0.47712125471966244\n",
      "           most: 0.47712125471966244\n"
     ]
    }
   ],
   "source": [
    "print(\"IDF of: \")\n",
    "\n",
    "idf = {}\n",
    "\n",
    "for w in words_set:\n",
    "    k = 0    # number of documents in the corpus that contain this word\n",
    "    \n",
    "    for i in range(n_docs):\n",
    "        if w in corpus[i].split():\n",
    "            k += 1\n",
    "            \n",
    "    idf[w] =  np.log10(n_docs / k)\n",
    "    \n",
    "    print(f'{w:>15}: {idf[w]:>10}' )"
   ]
  },
  {
   "cell_type": "code",
   "execution_count": null,
   "metadata": {
    "id": "rUJr9m8NgI_h"
   },
   "outputs": [],
   "source": []
  },
  {
   "cell_type": "markdown",
   "metadata": {
    "id": "8yU9yZNTgKnW"
   },
   "source": [
    "# **Juntando todo:  TF-IDF**\n",
    "Como ahora tenemos TF e IDF, podemos calcular TF-IDF:"
   ]
  },
  {
   "cell_type": "code",
   "execution_count": 7,
   "metadata": {
    "colab": {
     "base_uri": "https://localhost:8080/",
     "height": 143
    },
    "executionInfo": {
     "elapsed": 331,
     "status": "ok",
     "timestamp": 1662395692338,
     "user": {
      "displayName": "Julián Monsalve",
      "userId": "18332013709556430768"
     },
     "user_tz": 300
    },
    "id": "h7CmPIdsgOwR",
    "outputId": "21490df7-0c42-461d-c183-648df302faff"
   },
   "outputs": [
    {
     "data": {
      "text/html": [
       "<div>\n",
       "<style scoped>\n",
       "    .dataframe tbody tr th:only-of-type {\n",
       "        vertical-align: middle;\n",
       "    }\n",
       "\n",
       "    .dataframe tbody tr th {\n",
       "        vertical-align: top;\n",
       "    }\n",
       "\n",
       "    .dataframe thead th {\n",
       "        text-align: right;\n",
       "    }\n",
       "</style>\n",
       "<table border=\"1\" class=\"dataframe\">\n",
       "  <thead>\n",
       "    <tr style=\"text-align: right;\">\n",
       "      <th></th>\n",
       "      <th>science</th>\n",
       "      <th>is</th>\n",
       "      <th>fields</th>\n",
       "      <th>important</th>\n",
       "      <th>courses</th>\n",
       "      <th>scientists</th>\n",
       "      <th>best</th>\n",
       "      <th>data</th>\n",
       "      <th>this</th>\n",
       "      <th>the</th>\n",
       "      <th>one</th>\n",
       "      <th>of</th>\n",
       "      <th>analyze</th>\n",
       "      <th>most</th>\n",
       "    </tr>\n",
       "  </thead>\n",
       "  <tbody>\n",
       "    <tr>\n",
       "      <th>0</th>\n",
       "      <td>0.032017</td>\n",
       "      <td>0.016008</td>\n",
       "      <td>0.043375</td>\n",
       "      <td>0.043375</td>\n",
       "      <td>0.000000</td>\n",
       "      <td>0.00000</td>\n",
       "      <td>0.000000</td>\n",
       "      <td>0.0</td>\n",
       "      <td>0.000000</td>\n",
       "      <td>0.016008</td>\n",
       "      <td>0.016008</td>\n",
       "      <td>0.032017</td>\n",
       "      <td>0.00000</td>\n",
       "      <td>0.043375</td>\n",
       "    </tr>\n",
       "    <tr>\n",
       "      <th>1</th>\n",
       "      <td>0.019566</td>\n",
       "      <td>0.019566</td>\n",
       "      <td>0.000000</td>\n",
       "      <td>0.000000</td>\n",
       "      <td>0.053013</td>\n",
       "      <td>0.00000</td>\n",
       "      <td>0.053013</td>\n",
       "      <td>0.0</td>\n",
       "      <td>0.053013</td>\n",
       "      <td>0.019566</td>\n",
       "      <td>0.019566</td>\n",
       "      <td>0.019566</td>\n",
       "      <td>0.00000</td>\n",
       "      <td>0.000000</td>\n",
       "    </tr>\n",
       "    <tr>\n",
       "      <th>2</th>\n",
       "      <td>0.000000</td>\n",
       "      <td>0.000000</td>\n",
       "      <td>0.000000</td>\n",
       "      <td>0.000000</td>\n",
       "      <td>0.000000</td>\n",
       "      <td>0.11928</td>\n",
       "      <td>0.000000</td>\n",
       "      <td>0.0</td>\n",
       "      <td>0.000000</td>\n",
       "      <td>0.000000</td>\n",
       "      <td>0.000000</td>\n",
       "      <td>0.000000</td>\n",
       "      <td>0.11928</td>\n",
       "      <td>0.000000</td>\n",
       "    </tr>\n",
       "  </tbody>\n",
       "</table>\n",
       "</div>"
      ],
      "text/plain": [
       "    science        is    fields  important   courses  scientists      best  \\\n",
       "0  0.032017  0.016008  0.043375   0.043375  0.000000     0.00000  0.000000   \n",
       "1  0.019566  0.019566  0.000000   0.000000  0.053013     0.00000  0.053013   \n",
       "2  0.000000  0.000000  0.000000   0.000000  0.000000     0.11928  0.000000   \n",
       "\n",
       "   data      this       the       one        of  analyze      most  \n",
       "0   0.0  0.000000  0.016008  0.016008  0.032017  0.00000  0.043375  \n",
       "1   0.0  0.053013  0.019566  0.019566  0.019566  0.00000  0.000000  \n",
       "2   0.0  0.000000  0.000000  0.000000  0.000000  0.11928  0.000000  "
      ]
     },
     "execution_count": 7,
     "metadata": {},
     "output_type": "execute_result"
    }
   ],
   "source": [
    "df_tf_idf = df_tf.copy()\n",
    "\n",
    "for w in words_set:\n",
    "    for i in range(n_docs):\n",
    "        df_tf_idf[w][i] = df_tf[w][i] * idf[w]\n",
    "        \n",
    "df_tf_idf"
   ]
  },
  {
   "cell_type": "markdown",
   "metadata": {
    "id": "2NvpVL2PgeWg"
   },
   "source": [
    "Tenga en cuenta que \"datos\" tiene un IDF de 0 porque aparece en todos los documentos. Como resultado, no se considera un término importante en este corpus. Esto cambiará ligeramente en la siguiente implementación de sklearn, donde los \"datos\" no serán cero."
   ]
  },
  {
   "cell_type": "markdown",
   "metadata": {
    "id": "Wfn6cC-9hJnj"
   },
   "source": [
    "# TF-IDF Using scikit-learn"
   ]
  },
  {
   "cell_type": "code",
   "execution_count": 8,
   "metadata": {
    "executionInfo": {
     "elapsed": 793,
     "status": "ok",
     "timestamp": 1662395793752,
     "user": {
      "displayName": "Julián Monsalve",
      "userId": "18332013709556430768"
     },
     "user_tz": 300
    },
    "id": "PsxuS6NnglVQ"
   },
   "outputs": [],
   "source": [
    "from sklearn.feature_extraction.text import TfidfVectorizer"
   ]
  },
  {
   "cell_type": "markdown",
   "metadata": {
    "id": "GrhXrTQMh8Yw"
   },
   "source": [
    "Primero necesitamos instanciar la clase, luego podemos llamar al método **fit_transfor**m en nuestro corpus de prueba. Esto realizará todos los cálculos que realizamos anteriormente."
   ]
  },
  {
   "cell_type": "code",
   "execution_count": 9,
   "metadata": {
    "executionInfo": {
     "elapsed": 296,
     "status": "ok",
     "timestamp": 1662395961956,
     "user": {
      "displayName": "Julián Monsalve",
      "userId": "18332013709556430768"
     },
     "user_tz": 300
    },
    "id": "2PGmSI-5hS3x"
   },
   "outputs": [],
   "source": [
    "tr_idf_model  = TfidfVectorizer()\n",
    "tf_idf_vector = tr_idf_model.fit_transform(corpus)"
   ]
  },
  {
   "cell_type": "markdown",
   "metadata": {
    "id": "lgFR09Q5iK6_"
   },
   "source": [
    "Después de vectorizar el corpus por la función, se obtiene una matriz dispersa.\n",
    "\n",
    "Aquí está la forma actual de la matriz:"
   ]
  },
  {
   "cell_type": "code",
   "execution_count": 10,
   "metadata": {
    "colab": {
     "base_uri": "https://localhost:8080/"
    },
    "executionInfo": {
     "elapsed": 278,
     "status": "ok",
     "timestamp": 1662395977328,
     "user": {
      "displayName": "Julián Monsalve",
      "userId": "18332013709556430768"
     },
     "user_tz": 300
    },
    "id": "YY8omhAjhYDi",
    "outputId": "68db7244-7680-4d39-f735-94e9dc9dea21"
   },
   "outputs": [
    {
     "name": "stdout",
     "output_type": "stream",
     "text": [
      "<class 'scipy.sparse.csr.csr_matrix'> (3, 14)\n"
     ]
    }
   ],
   "source": [
    "print(type(tf_idf_vector), tf_idf_vector.shape)"
   ]
  },
  {
   "cell_type": "markdown",
   "metadata": {
    "id": "49oa4kIJiWgl"
   },
   "source": [
    "Y podemos convertir a una matriz regular para tener una mejor idea de los valores:"
   ]
  },
  {
   "cell_type": "code",
   "execution_count": 11,
   "metadata": {
    "colab": {
     "base_uri": "https://localhost:8080/"
    },
    "executionInfo": {
     "elapsed": 252,
     "status": "ok",
     "timestamp": 1662396007290,
     "user": {
      "displayName": "Julián Monsalve",
      "userId": "18332013709556430768"
     },
     "user_tz": 300
    },
    "id": "KZwow9YWhfXG",
    "outputId": "876a0da5-4f63-4c06-8296-8a5bd8f8b931"
   },
   "outputs": [
    {
     "name": "stdout",
     "output_type": "stream",
     "text": [
      "[[0.         0.         0.         0.18952581 0.32089509 0.32089509\n",
      "  0.24404899 0.32089509 0.48809797 0.24404899 0.48809797 0.\n",
      "  0.24404899 0.        ]\n",
      " [0.         0.40029393 0.40029393 0.23642005 0.         0.\n",
      "  0.30443385 0.         0.30443385 0.30443385 0.30443385 0.\n",
      "  0.30443385 0.40029393]\n",
      " [0.54270061 0.         0.         0.64105545 0.         0.\n",
      "  0.         0.         0.         0.         0.         0.54270061\n",
      "  0.         0.        ]]\n"
     ]
    }
   ],
   "source": [
    "tf_idf_array = tf_idf_vector.toarray()\n",
    "\n",
    "print(tf_idf_array)"
   ]
  },
  {
   "cell_type": "markdown",
   "metadata": {
    "id": "DPI2PgwThj7Y"
   },
   "source": [
    "Ahora es muy sencillo obtener los términos originales en el corpus usando **get_feature_names**:"
   ]
  },
  {
   "cell_type": "code",
   "execution_count": 12,
   "metadata": {
    "colab": {
     "base_uri": "https://localhost:8080/"
    },
    "executionInfo": {
     "elapsed": 243,
     "status": "ok",
     "timestamp": 1662396029053,
     "user": {
      "displayName": "Julián Monsalve",
      "userId": "18332013709556430768"
     },
     "user_tz": 300
    },
    "id": "pbp01kCJhkfE",
    "outputId": "03ec17c1-cb7d-4e5a-87cd-3df1360717f7"
   },
   "outputs": [
    {
     "name": "stdout",
     "output_type": "stream",
     "text": [
      "['analyze', 'best', 'courses', 'data', 'fields', 'important', 'is', 'most', 'of', 'one', 'science', 'scientists', 'the', 'this']\n"
     ]
    }
   ],
   "source": [
    "words_set = tr_idf_model.get_feature_names()\n",
    "\n",
    "print(words_set)"
   ]
  },
  {
   "cell_type": "markdown",
   "metadata": {
    "id": "7Mvy0LIniokJ"
   },
   "source": [
    "Finalmente, crearemos un marco de datos para mostrar mejor los puntajes TF-IDF de cada documento:"
   ]
  },
  {
   "cell_type": "code",
   "execution_count": 13,
   "metadata": {
    "colab": {
     "base_uri": "https://localhost:8080/",
     "height": 143
    },
    "executionInfo": {
     "elapsed": 254,
     "status": "ok",
     "timestamp": 1662396057684,
     "user": {
      "displayName": "Julián Monsalve",
      "userId": "18332013709556430768"
     },
     "user_tz": 300
    },
    "id": "EZ8WxMkihryO",
    "outputId": "0572a032-db35-471a-a287-aace96b8b5ce"
   },
   "outputs": [
    {
     "data": {
      "text/html": [
       "<div>\n",
       "<style scoped>\n",
       "    .dataframe tbody tr th:only-of-type {\n",
       "        vertical-align: middle;\n",
       "    }\n",
       "\n",
       "    .dataframe tbody tr th {\n",
       "        vertical-align: top;\n",
       "    }\n",
       "\n",
       "    .dataframe thead th {\n",
       "        text-align: right;\n",
       "    }\n",
       "</style>\n",
       "<table border=\"1\" class=\"dataframe\">\n",
       "  <thead>\n",
       "    <tr style=\"text-align: right;\">\n",
       "      <th></th>\n",
       "      <th>analyze</th>\n",
       "      <th>best</th>\n",
       "      <th>courses</th>\n",
       "      <th>data</th>\n",
       "      <th>fields</th>\n",
       "      <th>important</th>\n",
       "      <th>is</th>\n",
       "      <th>most</th>\n",
       "      <th>of</th>\n",
       "      <th>one</th>\n",
       "      <th>science</th>\n",
       "      <th>scientists</th>\n",
       "      <th>the</th>\n",
       "      <th>this</th>\n",
       "    </tr>\n",
       "  </thead>\n",
       "  <tbody>\n",
       "    <tr>\n",
       "      <th>0</th>\n",
       "      <td>0.000000</td>\n",
       "      <td>0.000000</td>\n",
       "      <td>0.000000</td>\n",
       "      <td>0.189526</td>\n",
       "      <td>0.320895</td>\n",
       "      <td>0.320895</td>\n",
       "      <td>0.244049</td>\n",
       "      <td>0.320895</td>\n",
       "      <td>0.488098</td>\n",
       "      <td>0.244049</td>\n",
       "      <td>0.488098</td>\n",
       "      <td>0.000000</td>\n",
       "      <td>0.244049</td>\n",
       "      <td>0.000000</td>\n",
       "    </tr>\n",
       "    <tr>\n",
       "      <th>1</th>\n",
       "      <td>0.000000</td>\n",
       "      <td>0.400294</td>\n",
       "      <td>0.400294</td>\n",
       "      <td>0.236420</td>\n",
       "      <td>0.000000</td>\n",
       "      <td>0.000000</td>\n",
       "      <td>0.304434</td>\n",
       "      <td>0.000000</td>\n",
       "      <td>0.304434</td>\n",
       "      <td>0.304434</td>\n",
       "      <td>0.304434</td>\n",
       "      <td>0.000000</td>\n",
       "      <td>0.304434</td>\n",
       "      <td>0.400294</td>\n",
       "    </tr>\n",
       "    <tr>\n",
       "      <th>2</th>\n",
       "      <td>0.542701</td>\n",
       "      <td>0.000000</td>\n",
       "      <td>0.000000</td>\n",
       "      <td>0.641055</td>\n",
       "      <td>0.000000</td>\n",
       "      <td>0.000000</td>\n",
       "      <td>0.000000</td>\n",
       "      <td>0.000000</td>\n",
       "      <td>0.000000</td>\n",
       "      <td>0.000000</td>\n",
       "      <td>0.000000</td>\n",
       "      <td>0.542701</td>\n",
       "      <td>0.000000</td>\n",
       "      <td>0.000000</td>\n",
       "    </tr>\n",
       "  </tbody>\n",
       "</table>\n",
       "</div>"
      ],
      "text/plain": [
       "    analyze      best   courses      data    fields  important        is  \\\n",
       "0  0.000000  0.000000  0.000000  0.189526  0.320895   0.320895  0.244049   \n",
       "1  0.000000  0.400294  0.400294  0.236420  0.000000   0.000000  0.304434   \n",
       "2  0.542701  0.000000  0.000000  0.641055  0.000000   0.000000  0.000000   \n",
       "\n",
       "       most        of       one   science  scientists       the      this  \n",
       "0  0.320895  0.488098  0.244049  0.488098    0.000000  0.244049  0.000000  \n",
       "1  0.000000  0.304434  0.304434  0.304434    0.000000  0.304434  0.400294  \n",
       "2  0.000000  0.000000  0.000000  0.000000    0.542701  0.000000  0.000000  "
      ]
     },
     "execution_count": 13,
     "metadata": {},
     "output_type": "execute_result"
    }
   ],
   "source": [
    "df_tf_idf = pd.DataFrame(tf_idf_array, columns = words_set)\n",
    "\n",
    "df_tf_idf"
   ]
  },
  {
   "cell_type": "markdown",
   "metadata": {
    "id": "lgb4UFY3h3s8"
   },
   "source": [
    "Como puede ver en el resultado anterior, los puntajes de TF-IDF son diferentes a los puntajes obtenidos por el proceso manual que usamos anteriormente. Esta diferencia se debe a la implementación de TF-IDF de Sklearn, que utiliza una fórmula ligeramente diferente."
   ]
  }
 ],
 "metadata": {
  "colab": {
   "authorship_tag": "ABX9TyOBZKy8FprOybd8leq7jXpo",
   "provenance": []
  },
  "kernelspec": {
   "display_name": "Python 3 (ipykernel)",
   "language": "python",
   "name": "python3"
  },
  "language_info": {
   "codemirror_mode": {
    "name": "ipython",
    "version": 3
   },
   "file_extension": ".py",
   "mimetype": "text/x-python",
   "name": "python",
   "nbconvert_exporter": "python",
   "pygments_lexer": "ipython3",
   "version": "3.9.12"
  }
 },
 "nbformat": 4,
 "nbformat_minor": 1
}
