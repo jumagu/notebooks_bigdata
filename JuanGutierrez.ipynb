{
 "cells": [
  {
   "cell_type": "markdown",
   "id": "87e79da6",
   "metadata": {},
   "source": [
    "# Parcial Big Data\n",
    "**Nombre:** Juan Manuel Gutiérrez Gómez - **Código**: 2260563"
   ]
  },
  {
   "cell_type": "markdown",
   "id": "e8f641e3",
   "metadata": {},
   "source": [
    "## Proceso de limpieza de datos"
   ]
  },
  {
   "cell_type": "markdown",
   "id": "1ead8697",
   "metadata": {},
   "source": [
    "### Manejo de valores faltantes"
   ]
  },
  {
   "cell_type": "markdown",
   "id": "3c9510da",
   "metadata": {},
   "source": [
    "Primero hacemos las importaciones necesarias para la limpieza de datos de valores faltantes o nulos:"
   ]
  },
  {
   "cell_type": "code",
   "execution_count": 1,
   "id": "0467b77a",
   "metadata": {},
   "outputs": [],
   "source": [
    "import numpy as np\n",
    "import pandas as pd"
   ]
  },
  {
   "cell_type": "markdown",
   "id": "40ee023a",
   "metadata": {},
   "source": [
    "Leemos la data con la ayuda de pandas"
   ]
  },
  {
   "cell_type": "code",
   "execution_count": 2,
   "id": "ce230f64",
   "metadata": {},
   "outputs": [],
   "source": [
    "data_training = pd.read_csv('DataParcial/data_Training/data_training.csv')\n",
    "Places = pd.read_csv('DataParcial/data_Training/Places.csv')\n",
    "users = pd.read_csv('DataParcial/data_Training/UsersTraining/usuarios.csv')"
   ]
  },
  {
   "cell_type": "markdown",
   "id": "d6a19135",
   "metadata": {},
   "source": [
    "Revisamos algunos registros de los dataset para comprobar si faltan datos, es un viztazo general"
   ]
  },
  {
   "cell_type": "code",
   "execution_count": 3,
   "id": "080158c0",
   "metadata": {},
   "outputs": [
    {
     "data": {
      "text/html": [
       "<div>\n",
       "<style scoped>\n",
       "    .dataframe tbody tr th:only-of-type {\n",
       "        vertical-align: middle;\n",
       "    }\n",
       "\n",
       "    .dataframe tbody tr th {\n",
       "        vertical-align: top;\n",
       "    }\n",
       "\n",
       "    .dataframe thead th {\n",
       "        text-align: right;\n",
       "    }\n",
       "</style>\n",
       "<table border=\"1\" class=\"dataframe\">\n",
       "  <thead>\n",
       "    <tr style=\"text-align: right;\">\n",
       "      <th></th>\n",
       "      <th>Index</th>\n",
       "      <th>Gender</th>\n",
       "      <th>Place</th>\n",
       "      <th>Location</th>\n",
       "      <th>Date</th>\n",
       "      <th>Type</th>\n",
       "      <th>Label</th>\n",
       "    </tr>\n",
       "  </thead>\n",
       "  <tbody>\n",
       "    <tr>\n",
       "      <th>208</th>\n",
       "      <td>Usuario1167</td>\n",
       "      <td>Male</td>\n",
       "      <td>Islas Marietas</td>\n",
       "      <td>Noroeste</td>\n",
       "      <td>marzo de 2016</td>\n",
       "      <td>Family</td>\n",
       "      <td>5</td>\n",
       "    </tr>\n",
       "    <tr>\n",
       "      <th>1440</th>\n",
       "      <td>Usuario2029</td>\n",
       "      <td>Female</td>\n",
       "      <td>Splash Water Park</td>\n",
       "      <td>Reino Unido</td>\n",
       "      <td>marzo de 2017</td>\n",
       "      <td>Family</td>\n",
       "      <td>3</td>\n",
       "    </tr>\n",
       "    <tr>\n",
       "      <th>1446</th>\n",
       "      <td>Usuario1589</td>\n",
       "      <td>Male</td>\n",
       "      <td>Mercado del Pueblo Sayulita</td>\n",
       "      <td>Chile</td>\n",
       "      <td>marzo de 2017</td>\n",
       "      <td>Family</td>\n",
       "      <td>3</td>\n",
       "    </tr>\n",
       "    <tr>\n",
       "      <th>518</th>\n",
       "      <td>Usuario1504</td>\n",
       "      <td>Female</td>\n",
       "      <td>Manantial La Tovara</td>\n",
       "      <td>Canada</td>\n",
       "      <td>febrero de 2017</td>\n",
       "      <td>Friends</td>\n",
       "      <td>5</td>\n",
       "    </tr>\n",
       "    <tr>\n",
       "      <th>466</th>\n",
       "      <td>Usuario1239</td>\n",
       "      <td>Male</td>\n",
       "      <td>Islas Marietas</td>\n",
       "      <td>Occidente</td>\n",
       "      <td>diciembre de 2013</td>\n",
       "      <td>Business</td>\n",
       "      <td>5</td>\n",
       "    </tr>\n",
       "  </tbody>\n",
       "</table>\n",
       "</div>"
      ],
      "text/plain": [
       "            Index  Gender                        Place     Location  \\\n",
       "208   Usuario1167    Male               Islas Marietas     Noroeste   \n",
       "1440  Usuario2029  Female            Splash Water Park  Reino Unido   \n",
       "1446  Usuario1589    Male  Mercado del Pueblo Sayulita        Chile   \n",
       "518   Usuario1504  Female          Manantial La Tovara       Canada   \n",
       "466   Usuario1239    Male               Islas Marietas    Occidente   \n",
       "\n",
       "                   Date      Type  Label  \n",
       "208       marzo de 2016    Family      5  \n",
       "1440      marzo de 2017    Family      3  \n",
       "1446      marzo de 2017    Family      3  \n",
       "518     febrero de 2017   Friends      5  \n",
       "466   diciembre de 2013  Business      5  "
      ]
     },
     "execution_count": 3,
     "metadata": {},
     "output_type": "execute_result"
    }
   ],
   "source": [
    "data_training.sample(5)"
   ]
  },
  {
   "cell_type": "code",
   "execution_count": 4,
   "id": "874c47be",
   "metadata": {},
   "outputs": [
    {
     "data": {
      "text/html": [
       "<div>\n",
       "<style scoped>\n",
       "    .dataframe tbody tr th:only-of-type {\n",
       "        vertical-align: middle;\n",
       "    }\n",
       "\n",
       "    .dataframe tbody tr th {\n",
       "        vertical-align: top;\n",
       "    }\n",
       "\n",
       "    .dataframe thead th {\n",
       "        text-align: right;\n",
       "    }\n",
       "</style>\n",
       "<table border=\"1\" class=\"dataframe\">\n",
       "  <thead>\n",
       "    <tr style=\"text-align: right;\">\n",
       "      <th></th>\n",
       "      <th>Lugar</th>\n",
       "      <th>Descripción</th>\n",
       "      <th>Unnamed: 2</th>\n",
       "      <th>Unnamed: 3</th>\n",
       "      <th>Unnamed: 4</th>\n",
       "      <th>Unnamed: 5</th>\n",
       "      <th>Unnamed: 6</th>\n",
       "      <th>Unnamed: 7</th>\n",
       "      <th>Unnamed: 8</th>\n",
       "      <th>Unnamed: 9</th>\n",
       "    </tr>\n",
       "  </thead>\n",
       "  <tbody>\n",
       "    <tr>\n",
       "      <th>2</th>\n",
       "      <td>Bucerias Art Walk</td>\n",
       "      <td>cultural|diversion</td>\n",
       "      <td>Hogar de uno de los paseos artísticos más sing...</td>\n",
       "      <td>NaN</td>\n",
       "      <td>NaN</td>\n",
       "      <td>NaN</td>\n",
       "      <td>NaN</td>\n",
       "      <td>NaN</td>\n",
       "      <td>NaN</td>\n",
       "      <td>NaN</td>\n",
       "    </tr>\n",
       "    <tr>\n",
       "      <th>17</th>\n",
       "      <td>Santuario de Cocodrilos El Cora</td>\n",
       "      <td>ecoturismo</td>\n",
       "      <td>Ubicado en el corazón del manglar en el Estero...</td>\n",
       "      <td>a un costado del Club de Golf Flamingos</td>\n",
       "      <td>se localiza el Cocodrilario Santuario de Cocod...</td>\n",
       "      <td>un espacio natural que se ha renovado con más ...</td>\n",
       "      <td>NaN</td>\n",
       "      <td>NaN</td>\n",
       "      <td>NaN</td>\n",
       "      <td>NaN</td>\n",
       "    </tr>\n",
       "    <tr>\n",
       "      <th>5</th>\n",
       "      <td>Isla de Coral</td>\n",
       "      <td>Turismo de sol y playa|ecoturismo</td>\n",
       "      <td>Localizada en el municipio de Compostela</td>\n",
       "      <td>Nayarit</td>\n",
       "      <td>en la conocida como Bahía de Jaltemba</td>\n",
       "      <td>la Isla del Coral semeja un acuario natural de...</td>\n",
       "      <td>tortugas</td>\n",
       "      <td>estrellas de mar</td>\n",
       "      <td>y peces multicolores.</td>\n",
       "      <td>NaN</td>\n",
       "    </tr>\n",
       "    <tr>\n",
       "      <th>11</th>\n",
       "      <td>Playa El Anclote</td>\n",
       "      <td>Turismo de sol y playa</td>\n",
       "      <td>Playa El anclote es un espectacular lugar de l...</td>\n",
       "      <td>dicha playa se reconocida por su belleza virge...</td>\n",
       "      <td>NaN</td>\n",
       "      <td>NaN</td>\n",
       "      <td>NaN</td>\n",
       "      <td>NaN</td>\n",
       "      <td>NaN</td>\n",
       "      <td>NaN</td>\n",
       "    </tr>\n",
       "    <tr>\n",
       "      <th>9</th>\n",
       "      <td>Mexcaltitan</td>\n",
       "      <td>Naturaleza</td>\n",
       "      <td>Mexcaltitán es una localidad del municipio de ...</td>\n",
       "      <td>Nayarit (México). La localidad se asienta sobr...</td>\n",
       "      <td>mezcal</td>\n",
       "      <td>y titlán</td>\n",
       "      <td>riqueza, abundancia.</td>\n",
       "      <td>NaN</td>\n",
       "      <td>NaN</td>\n",
       "      <td>NaN</td>\n",
       "    </tr>\n",
       "  </tbody>\n",
       "</table>\n",
       "</div>"
      ],
      "text/plain": [
       "                              Lugar                        Descripción  \\\n",
       "2                 Bucerias Art Walk                 cultural|diversion   \n",
       "17  Santuario de Cocodrilos El Cora                         ecoturismo   \n",
       "5                     Isla de Coral  Turismo de sol y playa|ecoturismo   \n",
       "11                 Playa El Anclote             Turismo de sol y playa   \n",
       "9                       Mexcaltitan                         Naturaleza   \n",
       "\n",
       "                                           Unnamed: 2  \\\n",
       "2   Hogar de uno de los paseos artísticos más sing...   \n",
       "17  Ubicado en el corazón del manglar en el Estero...   \n",
       "5            Localizada en el municipio de Compostela   \n",
       "11  Playa El anclote es un espectacular lugar de l...   \n",
       "9   Mexcaltitán es una localidad del municipio de ...   \n",
       "\n",
       "                                           Unnamed: 3  \\\n",
       "2                                                 NaN   \n",
       "17            a un costado del Club de Golf Flamingos   \n",
       "5                                             Nayarit   \n",
       "11  dicha playa se reconocida por su belleza virge...   \n",
       "9   Nayarit (México). La localidad se asienta sobr...   \n",
       "\n",
       "                                           Unnamed: 4  \\\n",
       "2                                                 NaN   \n",
       "17  se localiza el Cocodrilario Santuario de Cocod...   \n",
       "5               en la conocida como Bahía de Jaltemba   \n",
       "11                                                NaN   \n",
       "9                                              mezcal   \n",
       "\n",
       "                                           Unnamed: 5            Unnamed: 6  \\\n",
       "2                                                 NaN                   NaN   \n",
       "17  un espacio natural que se ha renovado con más ...                   NaN   \n",
       "5   la Isla del Coral semeja un acuario natural de...              tortugas   \n",
       "11                                                NaN                   NaN   \n",
       "9                                            y titlán  riqueza, abundancia.   \n",
       "\n",
       "          Unnamed: 7             Unnamed: 8 Unnamed: 9  \n",
       "2                NaN                    NaN        NaN  \n",
       "17               NaN                    NaN        NaN  \n",
       "5   estrellas de mar  y peces multicolores.        NaN  \n",
       "11               NaN                    NaN        NaN  \n",
       "9                NaN                    NaN        NaN  "
      ]
     },
     "execution_count": 4,
     "metadata": {},
     "output_type": "execute_result"
    }
   ],
   "source": [
    "Places.sample(5)"
   ]
  },
  {
   "cell_type": "code",
   "execution_count": 5,
   "id": "383cbe10",
   "metadata": {
    "scrolled": true
   },
   "outputs": [
    {
     "data": {
      "text/html": [
       "<div>\n",
       "<style scoped>\n",
       "    .dataframe tbody tr th:only-of-type {\n",
       "        vertical-align: middle;\n",
       "    }\n",
       "\n",
       "    .dataframe tbody tr th {\n",
       "        vertical-align: top;\n",
       "    }\n",
       "\n",
       "    .dataframe thead th {\n",
       "        text-align: right;\n",
       "    }\n",
       "</style>\n",
       "<table border=\"1\" class=\"dataframe\">\n",
       "  <thead>\n",
       "    <tr style=\"text-align: right;\">\n",
       "      <th></th>\n",
       "      <th>La playa, sencillamente es hermosa, mis hijos y yo verdaderamente disfrutamos este lugar... Primero tenía cierto temor por lo qie había escuchado del lugar, per...</th>\n",
       "      <th>4.0</th>\n",
       "      <th>Sayulita Beach</th>\n",
       "      <th>4.0.1</th>\n",
       "    </tr>\n",
       "  </thead>\n",
       "  <tbody>\n",
       "    <tr>\n",
       "      <th>11938</th>\n",
       "      <td>desconocido</td>\n",
       "      <td>40.4</td>\n",
       "      <td>Puerto Vallarta</td>\n",
       "      <td>40.4</td>\n",
       "    </tr>\n",
       "    <tr>\n",
       "      <th>14216</th>\n",
       "      <td>People said it is a must in punta arenas. I wa...</td>\n",
       "      <td>3.0</td>\n",
       "      <td>Cementerio Municipal</td>\n",
       "      <td>4.5</td>\n",
       "    </tr>\n",
       "    <tr>\n",
       "      <th>16431</th>\n",
       "      <td>El servicio es excelente me encanta ir por que...</td>\n",
       "      <td>5.0</td>\n",
       "      <td>Beef Capital Irapuato</td>\n",
       "      <td>4.0</td>\n",
       "    </tr>\n",
       "    <tr>\n",
       "      <th>4828</th>\n",
       "      <td>Ok it has plastic patio furniture and its outs...</td>\n",
       "      <td>5.0</td>\n",
       "      <td>L'Angolo di Napoli</td>\n",
       "      <td>4.5</td>\n",
       "    </tr>\n",
       "    <tr>\n",
       "      <th>22246</th>\n",
       "      <td>We visited Bella Vineyards last week and were ...</td>\n",
       "      <td>5.0</td>\n",
       "      <td>Bella Vineyards and Wine Caves</td>\n",
       "      <td>4.5</td>\n",
       "    </tr>\n",
       "  </tbody>\n",
       "</table>\n",
       "</div>"
      ],
      "text/plain": [
       "      La playa, sencillamente es hermosa, mis hijos y yo verdaderamente disfrutamos este lugar... Primero tenía cierto temor por lo qie había escuchado del lugar, per...  \\\n",
       "11938                                        desconocido                                                                                                                    \n",
       "14216  People said it is a must in punta arenas. I wa...                                                                                                                    \n",
       "16431  El servicio es excelente me encanta ir por que...                                                                                                                    \n",
       "4828   Ok it has plastic patio furniture and its outs...                                                                                                                    \n",
       "22246  We visited Bella Vineyards last week and were ...                                                                                                                    \n",
       "\n",
       "        4.0                  Sayulita Beach  4.0.1  \n",
       "11938  40.4                 Puerto Vallarta   40.4  \n",
       "14216   3.0            Cementerio Municipal    4.5  \n",
       "16431   5.0           Beef Capital Irapuato    4.0  \n",
       "4828    5.0              L'Angolo di Napoli    4.5  \n",
       "22246   5.0  Bella Vineyards and Wine Caves    4.5  "
      ]
     },
     "execution_count": 5,
     "metadata": {},
     "output_type": "execute_result"
    }
   ],
   "source": [
    "users.sample(5)"
   ]
  },
  {
   "cell_type": "markdown",
   "id": "a6403332",
   "metadata": {},
   "source": [
    "Imprimimos los valores totales de nulos en cada columna del dataset:"
   ]
  },
  {
   "cell_type": "code",
   "execution_count": 6,
   "id": "77e64608",
   "metadata": {},
   "outputs": [
    {
     "name": "stdout",
     "output_type": "stream",
     "text": [
      "Index       0\n",
      "Gender      0\n",
      "Place       0\n",
      "Location    0\n",
      "Date        0\n",
      "Type        0\n",
      "Label       0\n",
      "dtype: int64\n"
     ]
    }
   ],
   "source": [
    "print(data_training.isnull().sum())"
   ]
  },
  {
   "cell_type": "markdown",
   "id": "f9e1f35b",
   "metadata": {},
   "source": [
    "Podemos ver que el dataset de entrenamiento no tiene valores nulos."
   ]
  },
  {
   "cell_type": "code",
   "execution_count": 7,
   "id": "d546f713",
   "metadata": {},
   "outputs": [
    {
     "name": "stdout",
     "output_type": "stream",
     "text": [
      "Lugar           0\n",
      "Descripción     0\n",
      "Unnamed: 2      0\n",
      "Unnamed: 3      3\n",
      "Unnamed: 4      5\n",
      "Unnamed: 5      9\n",
      "Unnamed: 6     12\n",
      "Unnamed: 7     15\n",
      "Unnamed: 8     16\n",
      "Unnamed: 9     17\n",
      "dtype: int64\n"
     ]
    }
   ],
   "source": [
    "print(Places.isnull().sum())"
   ]
  },
  {
   "cell_type": "markdown",
   "id": "9b4c26a6",
   "metadata": {},
   "source": [
    "En este dataset vemos que se encuentran varios valores nulos, esto da a entender que el dataset tiene columnas que no se están usando y debe ser limpiado. Además de nombrar las columnas de descripciones."
   ]
  },
  {
   "cell_type": "code",
   "execution_count": 8,
   "id": "a774afeb",
   "metadata": {},
   "outputs": [],
   "source": [
    "Places.fillna('Sin descripcion', inplace=True)"
   ]
  },
  {
   "cell_type": "code",
   "execution_count": 9,
   "id": "cce3a43b",
   "metadata": {},
   "outputs": [
    {
     "name": "stdout",
     "output_type": "stream",
     "text": [
      "Lugar          0\n",
      "Descripción    0\n",
      "Unnamed: 2     0\n",
      "Unnamed: 3     0\n",
      "Unnamed: 4     0\n",
      "Unnamed: 5     0\n",
      "Unnamed: 6     0\n",
      "Unnamed: 7     0\n",
      "Unnamed: 8     0\n",
      "Unnamed: 9     0\n",
      "dtype: int64\n"
     ]
    }
   ],
   "source": [
    "print(Places.isnull().sum())"
   ]
  },
  {
   "cell_type": "code",
   "execution_count": 10,
   "id": "5696a497",
   "metadata": {},
   "outputs": [
    {
     "data": {
      "text/html": [
       "<div>\n",
       "<style scoped>\n",
       "    .dataframe tbody tr th:only-of-type {\n",
       "        vertical-align: middle;\n",
       "    }\n",
       "\n",
       "    .dataframe tbody tr th {\n",
       "        vertical-align: top;\n",
       "    }\n",
       "\n",
       "    .dataframe thead th {\n",
       "        text-align: right;\n",
       "    }\n",
       "</style>\n",
       "<table border=\"1\" class=\"dataframe\">\n",
       "  <thead>\n",
       "    <tr style=\"text-align: right;\">\n",
       "      <th></th>\n",
       "      <th>Lugar</th>\n",
       "      <th>Descripción</th>\n",
       "      <th>Unnamed: 2</th>\n",
       "      <th>Unnamed: 3</th>\n",
       "      <th>Unnamed: 4</th>\n",
       "      <th>Unnamed: 5</th>\n",
       "      <th>Unnamed: 6</th>\n",
       "      <th>Unnamed: 7</th>\n",
       "      <th>Unnamed: 8</th>\n",
       "      <th>Unnamed: 9</th>\n",
       "    </tr>\n",
       "  </thead>\n",
       "  <tbody>\n",
       "    <tr>\n",
       "      <th>0</th>\n",
       "      <td>Bahia de Matanchen</td>\n",
       "      <td>Turismo de sol y playa</td>\n",
       "      <td>Se localiza en el municipio de San Blas a 70.5...</td>\n",
       "      <td>Sin descripcion</td>\n",
       "      <td>Sin descripcion</td>\n",
       "      <td>Sin descripcion</td>\n",
       "      <td>Sin descripcion</td>\n",
       "      <td>Sin descripcion</td>\n",
       "      <td>Sin descripcion</td>\n",
       "      <td>Sin descripcion</td>\n",
       "    </tr>\n",
       "    <tr>\n",
       "      <th>1</th>\n",
       "      <td>Playa Los Muertos</td>\n",
       "      <td>Turismo de sol y playa</td>\n",
       "      <td>En Puerto Vallarta</td>\n",
       "      <td>cerca del Río Cuale</td>\n",
       "      <td>a unos metros del malecón</td>\n",
       "      <td>se encuentra esta playa</td>\n",
       "      <td>con una extensión de 2 kilómetros de largo. Es...</td>\n",
       "      <td>Sin descripcion</td>\n",
       "      <td>Sin descripcion</td>\n",
       "      <td>Sin descripcion</td>\n",
       "    </tr>\n",
       "    <tr>\n",
       "      <th>2</th>\n",
       "      <td>Bucerias Art Walk</td>\n",
       "      <td>cultural|diversion</td>\n",
       "      <td>Hogar de uno de los paseos artísticos más sing...</td>\n",
       "      <td>Sin descripcion</td>\n",
       "      <td>Sin descripcion</td>\n",
       "      <td>Sin descripcion</td>\n",
       "      <td>Sin descripcion</td>\n",
       "      <td>Sin descripcion</td>\n",
       "      <td>Sin descripcion</td>\n",
       "      <td>Sin descripcion</td>\n",
       "    </tr>\n",
       "    <tr>\n",
       "      <th>3</th>\n",
       "      <td>Centro Historico de Tepic</td>\n",
       "      <td>cultural|religioso</td>\n",
       "      <td>La capital del Estado de Nayarit</td>\n",
       "      <td>es una ciudad colonial que se encuentra rodead...</td>\n",
       "      <td>posee riquezas naturales y está llena de cultu...</td>\n",
       "      <td>Sin descripcion</td>\n",
       "      <td>Sin descripcion</td>\n",
       "      <td>Sin descripcion</td>\n",
       "      <td>Sin descripcion</td>\n",
       "      <td>Sin descripcion</td>\n",
       "    </tr>\n",
       "    <tr>\n",
       "      <th>4</th>\n",
       "      <td>Galerias Vallarta</td>\n",
       "      <td>diversion</td>\n",
       "      <td>En Galerías Vallarta contamos con todas las me...</td>\n",
       "      <td>Boutiques</td>\n",
       "      <td>Cine.</td>\n",
       "      <td>Sin descripcion</td>\n",
       "      <td>Sin descripcion</td>\n",
       "      <td>Sin descripcion</td>\n",
       "      <td>Sin descripcion</td>\n",
       "      <td>Sin descripcion</td>\n",
       "    </tr>\n",
       "  </tbody>\n",
       "</table>\n",
       "</div>"
      ],
      "text/plain": [
       "                       Lugar             Descripción  \\\n",
       "0         Bahia de Matanchen  Turismo de sol y playa   \n",
       "1          Playa Los Muertos  Turismo de sol y playa   \n",
       "2          Bucerias Art Walk      cultural|diversion   \n",
       "3  Centro Historico de Tepic      cultural|religioso   \n",
       "4          Galerias Vallarta               diversion   \n",
       "\n",
       "                                          Unnamed: 2  \\\n",
       "0  Se localiza en el municipio de San Blas a 70.5...   \n",
       "1                                 En Puerto Vallarta   \n",
       "2  Hogar de uno de los paseos artísticos más sing...   \n",
       "3                   La capital del Estado de Nayarit   \n",
       "4  En Galerías Vallarta contamos con todas las me...   \n",
       "\n",
       "                                          Unnamed: 3  \\\n",
       "0                                    Sin descripcion   \n",
       "1                                cerca del Río Cuale   \n",
       "2                                    Sin descripcion   \n",
       "3  es una ciudad colonial que se encuentra rodead...   \n",
       "4                                          Boutiques   \n",
       "\n",
       "                                          Unnamed: 4               Unnamed: 5  \\\n",
       "0                                    Sin descripcion          Sin descripcion   \n",
       "1                          a unos metros del malecón  se encuentra esta playa   \n",
       "2                                    Sin descripcion          Sin descripcion   \n",
       "3  posee riquezas naturales y está llena de cultu...          Sin descripcion   \n",
       "4                                              Cine.          Sin descripcion   \n",
       "\n",
       "                                          Unnamed: 6       Unnamed: 7  \\\n",
       "0                                    Sin descripcion  Sin descripcion   \n",
       "1  con una extensión de 2 kilómetros de largo. Es...  Sin descripcion   \n",
       "2                                    Sin descripcion  Sin descripcion   \n",
       "3                                    Sin descripcion  Sin descripcion   \n",
       "4                                    Sin descripcion  Sin descripcion   \n",
       "\n",
       "        Unnamed: 8       Unnamed: 9  \n",
       "0  Sin descripcion  Sin descripcion  \n",
       "1  Sin descripcion  Sin descripcion  \n",
       "2  Sin descripcion  Sin descripcion  \n",
       "3  Sin descripcion  Sin descripcion  \n",
       "4  Sin descripcion  Sin descripcion  "
      ]
     },
     "execution_count": 10,
     "metadata": {},
     "output_type": "execute_result"
    }
   ],
   "source": [
    "Places.head()"
   ]
  },
  {
   "cell_type": "markdown",
   "id": "4106532a",
   "metadata": {},
   "source": [
    "Renombrando las columnas sin nombre:"
   ]
  },
  {
   "cell_type": "code",
   "execution_count": 11,
   "id": "08f24c08",
   "metadata": {},
   "outputs": [],
   "source": [
    "Places.columns = ['Lugar', 'Descripción', 'Descripción', 'Descripción', 'Descripción', 'Descripción', 'Descripción', 'Descripción', 'Descripción', 'Descripción',]"
   ]
  },
  {
   "cell_type": "code",
   "execution_count": 12,
   "id": "79d03cb8",
   "metadata": {
    "scrolled": false
   },
   "outputs": [
    {
     "data": {
      "text/html": [
       "<div>\n",
       "<style scoped>\n",
       "    .dataframe tbody tr th:only-of-type {\n",
       "        vertical-align: middle;\n",
       "    }\n",
       "\n",
       "    .dataframe tbody tr th {\n",
       "        vertical-align: top;\n",
       "    }\n",
       "\n",
       "    .dataframe thead th {\n",
       "        text-align: right;\n",
       "    }\n",
       "</style>\n",
       "<table border=\"1\" class=\"dataframe\">\n",
       "  <thead>\n",
       "    <tr style=\"text-align: right;\">\n",
       "      <th></th>\n",
       "      <th>Lugar</th>\n",
       "      <th>Descripción</th>\n",
       "      <th>Descripción</th>\n",
       "      <th>Descripción</th>\n",
       "      <th>Descripción</th>\n",
       "      <th>Descripción</th>\n",
       "      <th>Descripción</th>\n",
       "      <th>Descripción</th>\n",
       "      <th>Descripción</th>\n",
       "      <th>Descripción</th>\n",
       "    </tr>\n",
       "  </thead>\n",
       "  <tbody>\n",
       "    <tr>\n",
       "      <th>0</th>\n",
       "      <td>Bahia de Matanchen</td>\n",
       "      <td>Turismo de sol y playa</td>\n",
       "      <td>Se localiza en el municipio de San Blas a 70.5...</td>\n",
       "      <td>Sin descripcion</td>\n",
       "      <td>Sin descripcion</td>\n",
       "      <td>Sin descripcion</td>\n",
       "      <td>Sin descripcion</td>\n",
       "      <td>Sin descripcion</td>\n",
       "      <td>Sin descripcion</td>\n",
       "      <td>Sin descripcion</td>\n",
       "    </tr>\n",
       "    <tr>\n",
       "      <th>1</th>\n",
       "      <td>Playa Los Muertos</td>\n",
       "      <td>Turismo de sol y playa</td>\n",
       "      <td>En Puerto Vallarta</td>\n",
       "      <td>cerca del Río Cuale</td>\n",
       "      <td>a unos metros del malecón</td>\n",
       "      <td>se encuentra esta playa</td>\n",
       "      <td>con una extensión de 2 kilómetros de largo. Es...</td>\n",
       "      <td>Sin descripcion</td>\n",
       "      <td>Sin descripcion</td>\n",
       "      <td>Sin descripcion</td>\n",
       "    </tr>\n",
       "    <tr>\n",
       "      <th>2</th>\n",
       "      <td>Bucerias Art Walk</td>\n",
       "      <td>cultural|diversion</td>\n",
       "      <td>Hogar de uno de los paseos artísticos más sing...</td>\n",
       "      <td>Sin descripcion</td>\n",
       "      <td>Sin descripcion</td>\n",
       "      <td>Sin descripcion</td>\n",
       "      <td>Sin descripcion</td>\n",
       "      <td>Sin descripcion</td>\n",
       "      <td>Sin descripcion</td>\n",
       "      <td>Sin descripcion</td>\n",
       "    </tr>\n",
       "    <tr>\n",
       "      <th>3</th>\n",
       "      <td>Centro Historico de Tepic</td>\n",
       "      <td>cultural|religioso</td>\n",
       "      <td>La capital del Estado de Nayarit</td>\n",
       "      <td>es una ciudad colonial que se encuentra rodead...</td>\n",
       "      <td>posee riquezas naturales y está llena de cultu...</td>\n",
       "      <td>Sin descripcion</td>\n",
       "      <td>Sin descripcion</td>\n",
       "      <td>Sin descripcion</td>\n",
       "      <td>Sin descripcion</td>\n",
       "      <td>Sin descripcion</td>\n",
       "    </tr>\n",
       "    <tr>\n",
       "      <th>4</th>\n",
       "      <td>Galerias Vallarta</td>\n",
       "      <td>diversion</td>\n",
       "      <td>En Galerías Vallarta contamos con todas las me...</td>\n",
       "      <td>Boutiques</td>\n",
       "      <td>Cine.</td>\n",
       "      <td>Sin descripcion</td>\n",
       "      <td>Sin descripcion</td>\n",
       "      <td>Sin descripcion</td>\n",
       "      <td>Sin descripcion</td>\n",
       "      <td>Sin descripcion</td>\n",
       "    </tr>\n",
       "  </tbody>\n",
       "</table>\n",
       "</div>"
      ],
      "text/plain": [
       "                       Lugar             Descripción  \\\n",
       "0         Bahia de Matanchen  Turismo de sol y playa   \n",
       "1          Playa Los Muertos  Turismo de sol y playa   \n",
       "2          Bucerias Art Walk      cultural|diversion   \n",
       "3  Centro Historico de Tepic      cultural|religioso   \n",
       "4          Galerias Vallarta               diversion   \n",
       "\n",
       "                                         Descripción  \\\n",
       "0  Se localiza en el municipio de San Blas a 70.5...   \n",
       "1                                 En Puerto Vallarta   \n",
       "2  Hogar de uno de los paseos artísticos más sing...   \n",
       "3                   La capital del Estado de Nayarit   \n",
       "4  En Galerías Vallarta contamos con todas las me...   \n",
       "\n",
       "                                         Descripción  \\\n",
       "0                                    Sin descripcion   \n",
       "1                                cerca del Río Cuale   \n",
       "2                                    Sin descripcion   \n",
       "3  es una ciudad colonial que se encuentra rodead...   \n",
       "4                                          Boutiques   \n",
       "\n",
       "                                         Descripción              Descripción  \\\n",
       "0                                    Sin descripcion          Sin descripcion   \n",
       "1                          a unos metros del malecón  se encuentra esta playa   \n",
       "2                                    Sin descripcion          Sin descripcion   \n",
       "3  posee riquezas naturales y está llena de cultu...          Sin descripcion   \n",
       "4                                              Cine.          Sin descripcion   \n",
       "\n",
       "                                         Descripción      Descripción  \\\n",
       "0                                    Sin descripcion  Sin descripcion   \n",
       "1  con una extensión de 2 kilómetros de largo. Es...  Sin descripcion   \n",
       "2                                    Sin descripcion  Sin descripcion   \n",
       "3                                    Sin descripcion  Sin descripcion   \n",
       "4                                    Sin descripcion  Sin descripcion   \n",
       "\n",
       "       Descripción      Descripción  \n",
       "0  Sin descripcion  Sin descripcion  \n",
       "1  Sin descripcion  Sin descripcion  \n",
       "2  Sin descripcion  Sin descripcion  \n",
       "3  Sin descripcion  Sin descripcion  \n",
       "4  Sin descripcion  Sin descripcion  "
      ]
     },
     "execution_count": 12,
     "metadata": {},
     "output_type": "execute_result"
    }
   ],
   "source": [
    "Places.head()"
   ]
  },
  {
   "cell_type": "code",
   "execution_count": 13,
   "id": "ca754937",
   "metadata": {},
   "outputs": [
    {
     "name": "stdout",
     "output_type": "stream",
     "text": [
      "La playa, sencillamente es hermosa, mis hijos y yo verdaderamente disfrutamos este lugar... Primero tenía cierto temor por lo qie había escuchado del lugar, per...     0\n",
      "4.0                                                                                                                                                                     1\n",
      "Sayulita Beach                                                                                                                                                          1\n",
      "4.0.1                                                                                                                                                                  29\n",
      "dtype: int64\n"
     ]
    }
   ],
   "source": [
    "print(users.isnull().sum())"
   ]
  },
  {
   "cell_type": "markdown",
   "id": "bc9f1b19",
   "metadata": {},
   "source": [
    "Como podemos ver, el dataset no tiene el nombre de las columnas y es algo importante que hay que solucionar."
   ]
  },
  {
   "cell_type": "code",
   "execution_count": 14,
   "id": "d7f6bb05",
   "metadata": {},
   "outputs": [],
   "source": [
    "users.columns = ['description', 'user_rating', 'place', 'global_rating']"
   ]
  },
  {
   "cell_type": "code",
   "execution_count": 15,
   "id": "331471b3",
   "metadata": {},
   "outputs": [
    {
     "name": "stdout",
     "output_type": "stream",
     "text": [
      "description       0\n",
      "user_rating       1\n",
      "place             1\n",
      "global_rating    29\n",
      "dtype: int64\n"
     ]
    }
   ],
   "source": [
    "print(users.isnull().sum())"
   ]
  },
  {
   "cell_type": "markdown",
   "id": "dce3eff1",
   "metadata": {},
   "source": [
    "En este caso el daño es menor, no hay muchos valores nulos, un usuario que no calificó el sitio turístico, un usuario que que no especificó el lugar y valores del global a los que no se les asignó una calificación global."
   ]
  },
  {
   "cell_type": "code",
   "execution_count": 16,
   "id": "09f940a6",
   "metadata": {},
   "outputs": [],
   "source": [
    "# Calulamos un promedio de las calificaciones para asignarselo a los valores nulos\n",
    "user_rating_mean = users['user_rating'].mean()\n",
    "users['user_rating'].fillna(user_rating_mean, inplace=True)\n",
    "users['place'].fillna('', inplace=True)\n",
    "# Calulamos un promedio de las calificaciones globales para asignarselo a los valores nulos\n",
    "global_rating_mean = users['global_rating'].mean()\n",
    "users['global_rating'].fillna(global_rating_mean, inplace=True)"
   ]
  },
  {
   "cell_type": "code",
   "execution_count": 17,
   "id": "a5654e1f",
   "metadata": {},
   "outputs": [
    {
     "name": "stdout",
     "output_type": "stream",
     "text": [
      "description      0\n",
      "user_rating      0\n",
      "place            0\n",
      "global_rating    0\n",
      "dtype: int64\n"
     ]
    }
   ],
   "source": [
    "print(users.isnull().sum())"
   ]
  },
  {
   "cell_type": "code",
   "execution_count": 18,
   "id": "03e9f162",
   "metadata": {
    "scrolled": true
   },
   "outputs": [
    {
     "data": {
      "text/html": [
       "<div>\n",
       "<style scoped>\n",
       "    .dataframe tbody tr th:only-of-type {\n",
       "        vertical-align: middle;\n",
       "    }\n",
       "\n",
       "    .dataframe tbody tr th {\n",
       "        vertical-align: top;\n",
       "    }\n",
       "\n",
       "    .dataframe thead th {\n",
       "        text-align: right;\n",
       "    }\n",
       "</style>\n",
       "<table border=\"1\" class=\"dataframe\">\n",
       "  <thead>\n",
       "    <tr style=\"text-align: right;\">\n",
       "      <th></th>\n",
       "      <th>description</th>\n",
       "      <th>user_rating</th>\n",
       "      <th>place</th>\n",
       "      <th>global_rating</th>\n",
       "    </tr>\n",
       "  </thead>\n",
       "  <tbody>\n",
       "    <tr>\n",
       "      <th>0</th>\n",
       "      <td>Hermoso lugar... Aunque muy fría el agua... Mu...</td>\n",
       "      <td>4.0</td>\n",
       "      <td>Balneario Agua Fría</td>\n",
       "      <td>4.0</td>\n",
       "    </tr>\n",
       "    <tr>\n",
       "      <th>1</th>\n",
       "      <td>La cerdad vale la pena visitar eate lugar... C...</td>\n",
       "      <td>4.0</td>\n",
       "      <td>Los Molcajetes de Villa</td>\n",
       "      <td>4.5</td>\n",
       "    </tr>\n",
       "    <tr>\n",
       "      <th>2</th>\n",
       "      <td>Debes visitar \"La Casa de Piedra\", ambiente mu...</td>\n",
       "      <td>4.0</td>\n",
       "      <td>La Casa de Piedra</td>\n",
       "      <td>4.0</td>\n",
       "    </tr>\n",
       "    <tr>\n",
       "      <th>3</th>\n",
       "      <td>Hola amig@s... Este es realmente un buen lugar...</td>\n",
       "      <td>4.0</td>\n",
       "      <td>Zoológico Guadalajara</td>\n",
       "      <td>4.5</td>\n",
       "    </tr>\n",
       "    <tr>\n",
       "      <th>4</th>\n",
       "      <td>Es un lugar muy tradicional en Mazatlán... exc...</td>\n",
       "      <td>4.0</td>\n",
       "      <td>El Muchacho Alegre</td>\n",
       "      <td>4.0</td>\n",
       "    </tr>\n",
       "  </tbody>\n",
       "</table>\n",
       "</div>"
      ],
      "text/plain": [
       "                                         description  user_rating  \\\n",
       "0  Hermoso lugar... Aunque muy fría el agua... Mu...          4.0   \n",
       "1  La cerdad vale la pena visitar eate lugar... C...          4.0   \n",
       "2  Debes visitar \"La Casa de Piedra\", ambiente mu...          4.0   \n",
       "3  Hola amig@s... Este es realmente un buen lugar...          4.0   \n",
       "4  Es un lugar muy tradicional en Mazatlán... exc...          4.0   \n",
       "\n",
       "                     place  global_rating  \n",
       "0      Balneario Agua Fría            4.0  \n",
       "1  Los Molcajetes de Villa            4.5  \n",
       "2        La Casa de Piedra            4.0  \n",
       "3    Zoológico Guadalajara            4.5  \n",
       "4       El Muchacho Alegre            4.0  "
      ]
     },
     "execution_count": 18,
     "metadata": {},
     "output_type": "execute_result"
    }
   ],
   "source": [
    "users.head()"
   ]
  },
  {
   "cell_type": "markdown",
   "id": "34a14889",
   "metadata": {},
   "source": [
    "### Escalado Variables"
   ]
  },
  {
   "cell_type": "markdown",
   "id": "b55c58e8",
   "metadata": {},
   "source": [
    "Esto significa que está transformando sus datos para que se ajusten a una escala específica, como 0-100 o 0-1. Escalar los datos cuando usa métodos basados en medidas de qué tan separados están los puntos de datos, como máquinas de vectores de soporte, SVM, k-vecinos más cercanos o KNN. Con estos algoritmos, se le da la misma importancia a un cambio de \"1\" en cualquier característica numérica.\n",
    "\n",
    "Al escalar las variables, puede ayudar a comparar diferentes variables en igualdad de condiciones. Para ayudar a solidificar cómo se ve la escala."
   ]
  },
  {
   "cell_type": "code",
   "execution_count": 19,
   "id": "3a13c4a1",
   "metadata": {},
   "outputs": [],
   "source": [
    "from mlxtend.preprocessing import minmax_scaling\n",
    "import seaborn as sns\n",
    "import matplotlib.pyplot as plt"
   ]
  },
  {
   "cell_type": "code",
   "execution_count": 20,
   "id": "c44a216c",
   "metadata": {},
   "outputs": [
    {
     "name": "stderr",
     "output_type": "stream",
     "text": [
      "C:\\Users\\JuanMa\\anaconda3\\lib\\site-packages\\mlxtend\\preprocessing\\scaling.py:40: FutureWarning: Support for multi-dimensional indexing (e.g. `obj[:, None]`) is deprecated and will be removed in a future version.  Convert to a numpy array before indexing instead.\n",
      "  ary_new = ary_new[:, np.newaxis]\n",
      "C:\\Users\\JuanMa\\anaconda3\\lib\\site-packages\\seaborn\\distributions.py:2619: FutureWarning: `distplot` is a deprecated function and will be removed in a future version. Please adapt your code to use either `displot` (a figure-level function with similar flexibility) or `histplot` (an axes-level function for histograms).\n",
      "  warnings.warn(msg, FutureWarning)\n",
      "C:\\Users\\JuanMa\\anaconda3\\lib\\site-packages\\seaborn\\distributions.py:2619: FutureWarning: `distplot` is a deprecated function and will be removed in a future version. Please adapt your code to use either `displot` (a figure-level function with similar flexibility) or `histplot` (an axes-level function for histograms).\n",
      "  warnings.warn(msg, FutureWarning)\n"
     ]
    },
    {
     "data": {
      "text/plain": [
       "Text(0.5, 1.0, 'Data Escalada')"
      ]
     },
     "execution_count": 20,
     "metadata": {},
     "output_type": "execute_result"
    },
    {
     "data": {
      "image/png": "[encoded data removed]",
      "text/plain": [
       "<Figure size 432x288 with 2 Axes>"
      ]
     },
     "metadata": {
      "needs_background": "light"
     },
     "output_type": "display_data"
    }
   ],
   "source": [
    "# Seleccionamos la columna Label para hacer el escalado en data_training.csv\n",
    "label_scaled = data_training.Label\n",
    "\n",
    "scaled_data = minmax_scaling(label_scaled, columns = [0])\n",
    "\n",
    "fig, ax=plt.subplots(1,2)\n",
    "sns.distplot(data_training.Label, ax=ax[0])\n",
    "ax[0].set_title(\"Data Original\")\n",
    "sns.distplot(scaled_data, ax=ax[1])\n",
    "ax[1].set_title(\"Data Escalada\")"
   ]
  },
  {
   "cell_type": "code",
   "execution_count": 21,
   "id": "1fa72d66",
   "metadata": {},
   "outputs": [
    {
     "name": "stderr",
     "output_type": "stream",
     "text": [
      "C:\\Users\\JuanMa\\anaconda3\\lib\\site-packages\\mlxtend\\preprocessing\\scaling.py:40: FutureWarning: Support for multi-dimensional indexing (e.g. `obj[:, None]`) is deprecated and will be removed in a future version.  Convert to a numpy array before indexing instead.\n",
      "  ary_new = ary_new[:, np.newaxis]\n",
      "C:\\Users\\JuanMa\\anaconda3\\lib\\site-packages\\seaborn\\distributions.py:2619: FutureWarning: `distplot` is a deprecated function and will be removed in a future version. Please adapt your code to use either `displot` (a figure-level function with similar flexibility) or `histplot` (an axes-level function for histograms).\n",
      "  warnings.warn(msg, FutureWarning)\n",
      "C:\\Users\\JuanMa\\anaconda3\\lib\\site-packages\\seaborn\\distributions.py:2619: FutureWarning: `distplot` is a deprecated function and will be removed in a future version. Please adapt your code to use either `displot` (a figure-level function with similar flexibility) or `histplot` (an axes-level function for histograms).\n",
      "  warnings.warn(msg, FutureWarning)\n"
     ]
    },
    {
     "data": {
      "text/plain": [
       "Text(0.5, 1.0, 'Data Escalada')"
      ]
     },
     "execution_count": 21,
     "metadata": {},
     "output_type": "execute_result"
    },
    {
     "data": {
      "image/png": "[encoded data removed]",
      "text/plain": [
       "<Figure size 432x288 with 2 Axes>"
      ]
     },
     "metadata": {
      "needs_background": "light"
     },
     "output_type": "display_data"
    }
   ],
   "source": [
    "# Seleccionamos la columna user_rating para hacer el escalado en data_training.csv\n",
    "user_rating_scaled = users.user_rating\n",
    "\n",
    "scaled_data = minmax_scaling(user_rating_scaled, columns = [0])\n",
    "\n",
    "fig, ax=plt.subplots(1,2)\n",
    "sns.distplot(users.user_rating, ax=ax[0])\n",
    "ax[0].set_title(\"Data Original\")\n",
    "sns.distplot(scaled_data, ax=ax[1])\n",
    "ax[1].set_title(\"Data Escalada\")"
   ]
  },
  {
   "cell_type": "code",
   "execution_count": 22,
   "id": "1f3737f9",
   "metadata": {},
   "outputs": [
    {
     "name": "stderr",
     "output_type": "stream",
     "text": [
      "C:\\Users\\JuanMa\\anaconda3\\lib\\site-packages\\mlxtend\\preprocessing\\scaling.py:40: FutureWarning: Support for multi-dimensional indexing (e.g. `obj[:, None]`) is deprecated and will be removed in a future version.  Convert to a numpy array before indexing instead.\n",
      "  ary_new = ary_new[:, np.newaxis]\n",
      "C:\\Users\\JuanMa\\anaconda3\\lib\\site-packages\\seaborn\\distributions.py:2619: FutureWarning: `distplot` is a deprecated function and will be removed in a future version. Please adapt your code to use either `displot` (a figure-level function with similar flexibility) or `histplot` (an axes-level function for histograms).\n",
      "  warnings.warn(msg, FutureWarning)\n",
      "C:\\Users\\JuanMa\\anaconda3\\lib\\site-packages\\seaborn\\distributions.py:2619: FutureWarning: `distplot` is a deprecated function and will be removed in a future version. Please adapt your code to use either `displot` (a figure-level function with similar flexibility) or `histplot` (an axes-level function for histograms).\n",
      "  warnings.warn(msg, FutureWarning)\n"
     ]
    },
    {
     "data": {
      "text/plain": [
       "Text(0.5, 1.0, 'Data Escalada')"
      ]
     },
     "execution_count": 22,
     "metadata": {},
     "output_type": "execute_result"
    },
    {
     "data": {
      "image/png": "[encoded data removed]",
      "text/plain": [
       "<Figure size 432x288 with 2 Axes>"
      ]
     },
     "metadata": {
      "needs_background": "light"
     },
     "output_type": "display_data"
    }
   ],
   "source": [
    "# Seleccionamos la columna global_rating para hacer el escalado en data_training.csv\n",
    "global_rating_scaled = users.global_rating\n",
    "\n",
    "scaled_data = minmax_scaling(global_rating_scaled, columns = [0])\n",
    "\n",
    "fig, ax=plt.subplots(1,2)\n",
    "sns.distplot(users.global_rating, ax=ax[0])\n",
    "ax[0].set_title(\"Data Original\")\n",
    "sns.distplot(scaled_data, ax=ax[1])\n",
    "ax[1].set_title(\"Data Escalada\")"
   ]
  },
  {
   "cell_type": "markdown",
   "id": "b8435843",
   "metadata": {},
   "source": [
    "### Normalización de Datos"
   ]
  },
  {
   "cell_type": "code",
   "execution_count": 23,
   "id": "04eda30c",
   "metadata": {},
   "outputs": [],
   "source": [
    "from scipy import stats"
   ]
  },
  {
   "cell_type": "code",
   "execution_count": 24,
   "id": "b1d7a3be",
   "metadata": {},
   "outputs": [
    {
     "name": "stderr",
     "output_type": "stream",
     "text": [
      "C:\\Users\\JuanMa\\anaconda3\\lib\\site-packages\\seaborn\\distributions.py:2619: FutureWarning: `distplot` is a deprecated function and will be removed in a future version. Please adapt your code to use either `displot` (a figure-level function with similar flexibility) or `histplot` (an axes-level function for histograms).\n",
      "  warnings.warn(msg, FutureWarning)\n",
      "C:\\Users\\JuanMa\\anaconda3\\lib\\site-packages\\seaborn\\distributions.py:2619: FutureWarning: `distplot` is a deprecated function and will be removed in a future version. Please adapt your code to use either `displot` (a figure-level function with similar flexibility) or `histplot` (an axes-level function for histograms).\n",
      "  warnings.warn(msg, FutureWarning)\n"
     ]
    },
    {
     "data": {
      "text/plain": [
       "Text(0.5, 1.0, 'Normalized data')"
      ]
     },
     "execution_count": 24,
     "metadata": {},
     "output_type": "execute_result"
    },
    {
     "data": {
      "image/png": "[encoded data removed]",
      "text/plain": [
       "<Figure size 432x288 with 2 Axes>"
      ]
     },
     "metadata": {
      "needs_background": "light"
     },
     "output_type": "display_data"
    }
   ],
   "source": [
    "# Normalización de la data para las Etiquetas \"Label\" en el dataset de entrenamiento\n",
    "label_scaled = data_training.Label > 0\n",
    "\n",
    "positive_Labels = data_training.Label.loc[label_scaled]\n",
    "\n",
    "normalized_Labels = stats.boxcox(positive_Labels)[0]\n",
    "\n",
    "fig, ax=plt.subplots(1,2)\n",
    "sns.distplot(positive_Labels, ax=ax[0])\n",
    "ax[0].set_title(\"Original Data\")\n",
    "sns.distplot(normalized_Labels, ax=ax[1])\n",
    "ax[1].set_title(\"Normalized data\")"
   ]
  },
  {
   "cell_type": "code",
   "execution_count": 25,
   "id": "009d0756",
   "metadata": {},
   "outputs": [
    {
     "name": "stderr",
     "output_type": "stream",
     "text": [
      "C:\\Users\\JuanMa\\anaconda3\\lib\\site-packages\\seaborn\\distributions.py:2619: FutureWarning: `distplot` is a deprecated function and will be removed in a future version. Please adapt your code to use either `displot` (a figure-level function with similar flexibility) or `histplot` (an axes-level function for histograms).\n",
      "  warnings.warn(msg, FutureWarning)\n",
      "C:\\Users\\JuanMa\\anaconda3\\lib\\site-packages\\seaborn\\distributions.py:2619: FutureWarning: `distplot` is a deprecated function and will be removed in a future version. Please adapt your code to use either `displot` (a figure-level function with similar flexibility) or `histplot` (an axes-level function for histograms).\n",
      "  warnings.warn(msg, FutureWarning)\n"
     ]
    },
    {
     "data": {
      "text/plain": [
       "Text(0.5, 1.0, 'Normalized data')"
      ]
     },
     "execution_count": 25,
     "metadata": {},
     "output_type": "execute_result"
    },
    {
     "data": {
      "image/png": "[encoded data removed]",
      "text/plain": [
       "<Figure size 432x288 with 2 Axes>"
      ]
     },
     "metadata": {
      "needs_background": "light"
     },
     "output_type": "display_data"
    }
   ],
   "source": [
    "# Normalización de la data para las Calificaciones del usuario \"user_rating\" en el dataset de usuarios\n",
    "user_rating_scaled = users.user_rating > 0\n",
    "\n",
    "positive_user_rating = users.user_rating.loc[user_rating_scaled]\n",
    "\n",
    "normalized_user_rating = stats.boxcox(positive_user_rating)[0]\n",
    "\n",
    "fig, ax=plt.subplots(1,2)\n",
    "sns.distplot(positive_user_rating, ax=ax[0])\n",
    "ax[0].set_title(\"Original Data\")\n",
    "sns.distplot(normalized_user_rating, ax=ax[1])\n",
    "ax[1].set_title(\"Normalized data\")"
   ]
  },
  {
   "cell_type": "code",
   "execution_count": 26,
   "id": "cb4a8fab",
   "metadata": {},
   "outputs": [
    {
     "name": "stderr",
     "output_type": "stream",
     "text": [
      "C:\\Users\\JuanMa\\anaconda3\\lib\\site-packages\\seaborn\\distributions.py:2619: FutureWarning: `distplot` is a deprecated function and will be removed in a future version. Please adapt your code to use either `displot` (a figure-level function with similar flexibility) or `histplot` (an axes-level function for histograms).\n",
      "  warnings.warn(msg, FutureWarning)\n",
      "C:\\Users\\JuanMa\\anaconda3\\lib\\site-packages\\seaborn\\distributions.py:2619: FutureWarning: `distplot` is a deprecated function and will be removed in a future version. Please adapt your code to use either `displot` (a figure-level function with similar flexibility) or `histplot` (an axes-level function for histograms).\n",
      "  warnings.warn(msg, FutureWarning)\n"
     ]
    },
    {
     "data": {
      "text/plain": [
       "Text(0.5, 1.0, 'Normalized data')"
      ]
     },
     "execution_count": 26,
     "metadata": {},
     "output_type": "execute_result"
    },
    {
     "data": {
      "image/png": "[encoded data removed]",
      "text/plain": [
       "<Figure size 432x288 with 2 Axes>"
      ]
     },
     "metadata": {
      "needs_background": "light"
     },
     "output_type": "display_data"
    }
   ],
   "source": [
    "# Normalización de la data para las Calificaciones globales \"global_rating\" en el dataset de usuarios\n",
    "global_rating_scaled = users.global_rating > 0\n",
    "\n",
    "positive_global_rating = users.global_rating.loc[global_rating_scaled]\n",
    "\n",
    "normalized_global_rating = stats.boxcox(positive_global_rating)[0]\n",
    "\n",
    "fig, ax=plt.subplots(1,2)\n",
    "sns.distplot(positive_global_rating, ax=ax[0])\n",
    "ax[0].set_title(\"Original Data\")\n",
    "sns.distplot(normalized_global_rating, ax=ax[1])\n",
    "ax[1].set_title(\"Normalized data\")"
   ]
  },
  {
   "cell_type": "markdown",
   "id": "fb93b829",
   "metadata": {},
   "source": [
    "## Estrategia para desarrollar el sistema de recomendación"
   ]
  },
  {
   "cell_type": "markdown",
   "id": "c051d725",
   "metadata": {},
   "source": [
    "El diseño propueto es el de un sistema de recomendación basado en contenido, el cual se basará en las descripciones y las calificaciones de los usuarios a los sitios turísticos recopilados. Este método utiliza atributos del contenido para recomendar contenidos similares. No tiene un problema de arranque en frío porque funciona a través de atributos o etiquetas del contenido por lo que se pueden recomendar nuevos destinos de inmediato.\n",
    "\n",
    "Basándome en esto, se hará un filtrado basado en el contenido para un sistema de recomendación de destinos turísticos. Se usarán algunas de las librerías más importantes de Python como **sklearn, nltk, numpy, pandas** entre otras que ayudarán a procesar la data y construir las recomendaciones."
   ]
  },
  {
   "cell_type": "markdown",
   "id": "f2f75690",
   "metadata": {},
   "source": [
    "## Desarrollo e implementación del sistema de recomendación"
   ]
  },
  {
   "cell_type": "markdown",
   "id": "469506c3",
   "metadata": {},
   "source": [
    "Importaciones más relevantes:"
   ]
  },
  {
   "cell_type": "code",
   "execution_count": 27,
   "id": "280ec77d",
   "metadata": {},
   "outputs": [],
   "source": [
    "import re\n",
    "import string\n",
    "import random\n",
    "from nltk.corpus import stopwords\n",
    "from nltk.tokenize import RegexpTokenizer\n",
    "from sklearn.metrics.pairwise import linear_kernel\n",
    "from sklearn.feature_extraction.text import CountVectorizer\n",
    "from sklearn.feature_extraction.text import TfidfVectorizer"
   ]
  },
  {
   "cell_type": "markdown",
   "id": "135137b3",
   "metadata": {},
   "source": [
    "Visualizamos la data nuevamente, esta vez, la data ya está limpia y lista para usarse en el sistema de recomendación"
   ]
  },
  {
   "cell_type": "code",
   "execution_count": 28,
   "id": "5bf655ec",
   "metadata": {},
   "outputs": [
    {
     "data": {
      "text/html": [
       "<div>\n",
       "<style scoped>\n",
       "    .dataframe tbody tr th:only-of-type {\n",
       "        vertical-align: middle;\n",
       "    }\n",
       "\n",
       "    .dataframe tbody tr th {\n",
       "        vertical-align: top;\n",
       "    }\n",
       "\n",
       "    .dataframe thead th {\n",
       "        text-align: right;\n",
       "    }\n",
       "</style>\n",
       "<table border=\"1\" class=\"dataframe\">\n",
       "  <thead>\n",
       "    <tr style=\"text-align: right;\">\n",
       "      <th></th>\n",
       "      <th>description</th>\n",
       "      <th>user_rating</th>\n",
       "      <th>place</th>\n",
       "      <th>global_rating</th>\n",
       "    </tr>\n",
       "  </thead>\n",
       "  <tbody>\n",
       "    <tr>\n",
       "      <th>0</th>\n",
       "      <td>Hermoso lugar... Aunque muy fría el agua... Mu...</td>\n",
       "      <td>4.000000</td>\n",
       "      <td>Balneario Agua Fría</td>\n",
       "      <td>4.000000</td>\n",
       "    </tr>\n",
       "    <tr>\n",
       "      <th>1</th>\n",
       "      <td>La cerdad vale la pena visitar eate lugar... C...</td>\n",
       "      <td>4.000000</td>\n",
       "      <td>Los Molcajetes de Villa</td>\n",
       "      <td>4.500000</td>\n",
       "    </tr>\n",
       "    <tr>\n",
       "      <th>2</th>\n",
       "      <td>Debes visitar \"La Casa de Piedra\", ambiente mu...</td>\n",
       "      <td>4.000000</td>\n",
       "      <td>La Casa de Piedra</td>\n",
       "      <td>4.000000</td>\n",
       "    </tr>\n",
       "    <tr>\n",
       "      <th>3</th>\n",
       "      <td>Hola amig@s... Este es realmente un buen lugar...</td>\n",
       "      <td>4.000000</td>\n",
       "      <td>Zoológico Guadalajara</td>\n",
       "      <td>4.500000</td>\n",
       "    </tr>\n",
       "    <tr>\n",
       "      <th>4</th>\n",
       "      <td>Es un lugar muy tradicional en Mazatlán... exc...</td>\n",
       "      <td>4.000000</td>\n",
       "      <td>El Muchacho Alegre</td>\n",
       "      <td>4.000000</td>\n",
       "    </tr>\n",
       "    <tr>\n",
       "      <th>...</th>\n",
       "      <td>...</td>\n",
       "      <td>...</td>\n",
       "      <td>...</td>\n",
       "      <td>...</td>\n",
       "    </tr>\n",
       "    <tr>\n",
       "      <th>23865</th>\n",
       "      <td>Jess did a splendid job as our guide. Loved le...</td>\n",
       "      <td>5.000000</td>\n",
       "      <td>Devour Paris</td>\n",
       "      <td>5.000000</td>\n",
       "    </tr>\n",
       "    <tr>\n",
       "      <th>23866</th>\n",
       "      <td>We had the small group Louvre tour with Lauren...</td>\n",
       "      <td>5.000000</td>\n",
       "      <td>City Wonders</td>\n",
       "      <td>4.500000</td>\n",
       "    </tr>\n",
       "    <tr>\n",
       "      <th>23867</th>\n",
       "      <td>We went here once for dessert when the snooty ...</td>\n",
       "      <td>5.000000</td>\n",
       "      <td>Zizi</td>\n",
       "      <td>3.500000</td>\n",
       "    </tr>\n",
       "    <tr>\n",
       "      <th>23868</th>\n",
       "      <td>Good crepes with friendly service. The waitres...</td>\n",
       "      <td>5.000000</td>\n",
       "      <td>Le Dos d'Ane</td>\n",
       "      <td>4.500000</td>\n",
       "    </tr>\n",
       "    <tr>\n",
       "      <th>23869</th>\n",
       "      <td>\u001a</td>\n",
       "      <td>10.267594</td>\n",
       "      <td></td>\n",
       "      <td>10.226966</td>\n",
       "    </tr>\n",
       "  </tbody>\n",
       "</table>\n",
       "<p>23870 rows × 4 columns</p>\n",
       "</div>"
      ],
      "text/plain": [
       "                                             description  user_rating  \\\n",
       "0      Hermoso lugar... Aunque muy fría el agua... Mu...     4.000000   \n",
       "1      La cerdad vale la pena visitar eate lugar... C...     4.000000   \n",
       "2      Debes visitar \"La Casa de Piedra\", ambiente mu...     4.000000   \n",
       "3      Hola amig@s... Este es realmente un buen lugar...     4.000000   \n",
       "4      Es un lugar muy tradicional en Mazatlán... exc...     4.000000   \n",
       "...                                                  ...          ...   \n",
       "23865  Jess did a splendid job as our guide. Loved le...     5.000000   \n",
       "23866  We had the small group Louvre tour with Lauren...     5.000000   \n",
       "23867  We went here once for dessert when the snooty ...     5.000000   \n",
       "23868  Good crepes with friendly service. The waitres...     5.000000   \n",
       "23869                                                  \u001a    10.267594   \n",
       "\n",
       "                         place  global_rating  \n",
       "0          Balneario Agua Fría       4.000000  \n",
       "1      Los Molcajetes de Villa       4.500000  \n",
       "2            La Casa de Piedra       4.000000  \n",
       "3        Zoológico Guadalajara       4.500000  \n",
       "4           El Muchacho Alegre       4.000000  \n",
       "...                        ...            ...  \n",
       "23865             Devour Paris       5.000000  \n",
       "23866             City Wonders       4.500000  \n",
       "23867                     Zizi       3.500000  \n",
       "23868             Le Dos d'Ane       4.500000  \n",
       "23869                               10.226966  \n",
       "\n",
       "[23870 rows x 4 columns]"
      ]
     },
     "execution_count": 28,
     "metadata": {},
     "output_type": "execute_result"
    }
   ],
   "source": [
    "users"
   ]
  },
  {
   "cell_type": "markdown",
   "id": "18363b15",
   "metadata": {},
   "source": [
    "Inseramos el 'id' como nombre para la primera columna, esto servira de identificador para cada registro."
   ]
  },
  {
   "cell_type": "code",
   "execution_count": 29,
   "id": "c707d01e",
   "metadata": {
    "scrolled": false
   },
   "outputs": [
    {
     "data": {
      "text/html": [
       "<div>\n",
       "<style scoped>\n",
       "    .dataframe tbody tr th:only-of-type {\n",
       "        vertical-align: middle;\n",
       "    }\n",
       "\n",
       "    .dataframe tbody tr th {\n",
       "        vertical-align: top;\n",
       "    }\n",
       "\n",
       "    .dataframe thead th {\n",
       "        text-align: right;\n",
       "    }\n",
       "</style>\n",
       "<table border=\"1\" class=\"dataframe\">\n",
       "  <thead>\n",
       "    <tr style=\"text-align: right;\">\n",
       "      <th></th>\n",
       "      <th>id</th>\n",
       "      <th>description</th>\n",
       "      <th>user_rating</th>\n",
       "      <th>place</th>\n",
       "      <th>global_rating</th>\n",
       "    </tr>\n",
       "  </thead>\n",
       "  <tbody>\n",
       "    <tr>\n",
       "      <th>0</th>\n",
       "      <td>0</td>\n",
       "      <td>Hermoso lugar... Aunque muy fría el agua... Mu...</td>\n",
       "      <td>4.000000</td>\n",
       "      <td>Balneario Agua Fría</td>\n",
       "      <td>4.000000</td>\n",
       "    </tr>\n",
       "    <tr>\n",
       "      <th>1</th>\n",
       "      <td>1</td>\n",
       "      <td>La cerdad vale la pena visitar eate lugar... C...</td>\n",
       "      <td>4.000000</td>\n",
       "      <td>Los Molcajetes de Villa</td>\n",
       "      <td>4.500000</td>\n",
       "    </tr>\n",
       "    <tr>\n",
       "      <th>2</th>\n",
       "      <td>2</td>\n",
       "      <td>Debes visitar \"La Casa de Piedra\", ambiente mu...</td>\n",
       "      <td>4.000000</td>\n",
       "      <td>La Casa de Piedra</td>\n",
       "      <td>4.000000</td>\n",
       "    </tr>\n",
       "    <tr>\n",
       "      <th>3</th>\n",
       "      <td>3</td>\n",
       "      <td>Hola amig@s... Este es realmente un buen lugar...</td>\n",
       "      <td>4.000000</td>\n",
       "      <td>Zoológico Guadalajara</td>\n",
       "      <td>4.500000</td>\n",
       "    </tr>\n",
       "    <tr>\n",
       "      <th>4</th>\n",
       "      <td>4</td>\n",
       "      <td>Es un lugar muy tradicional en Mazatlán... exc...</td>\n",
       "      <td>4.000000</td>\n",
       "      <td>El Muchacho Alegre</td>\n",
       "      <td>4.000000</td>\n",
       "    </tr>\n",
       "    <tr>\n",
       "      <th>...</th>\n",
       "      <td>...</td>\n",
       "      <td>...</td>\n",
       "      <td>...</td>\n",
       "      <td>...</td>\n",
       "      <td>...</td>\n",
       "    </tr>\n",
       "    <tr>\n",
       "      <th>23865</th>\n",
       "      <td>23865</td>\n",
       "      <td>Jess did a splendid job as our guide. Loved le...</td>\n",
       "      <td>5.000000</td>\n",
       "      <td>Devour Paris</td>\n",
       "      <td>5.000000</td>\n",
       "    </tr>\n",
       "    <tr>\n",
       "      <th>23866</th>\n",
       "      <td>23866</td>\n",
       "      <td>We had the small group Louvre tour with Lauren...</td>\n",
       "      <td>5.000000</td>\n",
       "      <td>City Wonders</td>\n",
       "      <td>4.500000</td>\n",
       "    </tr>\n",
       "    <tr>\n",
       "      <th>23867</th>\n",
       "      <td>23867</td>\n",
       "      <td>We went here once for dessert when the snooty ...</td>\n",
       "      <td>5.000000</td>\n",
       "      <td>Zizi</td>\n",
       "      <td>3.500000</td>\n",
       "    </tr>\n",
       "    <tr>\n",
       "      <th>23868</th>\n",
       "      <td>23868</td>\n",
       "      <td>Good crepes with friendly service. The waitres...</td>\n",
       "      <td>5.000000</td>\n",
       "      <td>Le Dos d'Ane</td>\n",
       "      <td>4.500000</td>\n",
       "    </tr>\n",
       "    <tr>\n",
       "      <th>23869</th>\n",
       "      <td>23869</td>\n",
       "      <td>\u001a</td>\n",
       "      <td>10.267594</td>\n",
       "      <td></td>\n",
       "      <td>10.226966</td>\n",
       "    </tr>\n",
       "  </tbody>\n",
       "</table>\n",
       "<p>23870 rows × 5 columns</p>\n",
       "</div>"
      ],
      "text/plain": [
       "          id                                        description  user_rating  \\\n",
       "0          0  Hermoso lugar... Aunque muy fría el agua... Mu...     4.000000   \n",
       "1          1  La cerdad vale la pena visitar eate lugar... C...     4.000000   \n",
       "2          2  Debes visitar \"La Casa de Piedra\", ambiente mu...     4.000000   \n",
       "3          3  Hola amig@s... Este es realmente un buen lugar...     4.000000   \n",
       "4          4  Es un lugar muy tradicional en Mazatlán... exc...     4.000000   \n",
       "...      ...                                                ...          ...   \n",
       "23865  23865  Jess did a splendid job as our guide. Loved le...     5.000000   \n",
       "23866  23866  We had the small group Louvre tour with Lauren...     5.000000   \n",
       "23867  23867  We went here once for dessert when the snooty ...     5.000000   \n",
       "23868  23868  Good crepes with friendly service. The waitres...     5.000000   \n",
       "23869  23869                                                  \u001a    10.267594   \n",
       "\n",
       "                         place  global_rating  \n",
       "0          Balneario Agua Fría       4.000000  \n",
       "1      Los Molcajetes de Villa       4.500000  \n",
       "2            La Casa de Piedra       4.000000  \n",
       "3        Zoológico Guadalajara       4.500000  \n",
       "4           El Muchacho Alegre       4.000000  \n",
       "...                        ...            ...  \n",
       "23865             Devour Paris       5.000000  \n",
       "23866             City Wonders       4.500000  \n",
       "23867                     Zizi       3.500000  \n",
       "23868             Le Dos d'Ane       4.500000  \n",
       "23869                               10.226966  \n",
       "\n",
       "[23870 rows x 5 columns]"
      ]
     },
     "execution_count": 29,
     "metadata": {},
     "output_type": "execute_result"
    }
   ],
   "source": [
    "users.insert(0,'id',range(0,users.shape[0]))\n",
    "users"
   ]
  },
  {
   "cell_type": "markdown",
   "id": "429f1cfb",
   "metadata": {},
   "source": [
    "Insertamos el dataset dentro de una variable para poder trabajarla en el sistema de recomendación. Imprimimos la forma del la data"
   ]
  },
  {
   "cell_type": "code",
   "execution_count": 30,
   "id": "7a443d7e",
   "metadata": {
    "scrolled": true
   },
   "outputs": [
    {
     "data": {
      "text/plain": [
       "(23870, 4)"
      ]
     },
     "execution_count": 30,
     "metadata": {},
     "output_type": "execute_result"
    }
   ],
   "source": [
    "df = users[['description', 'user_rating', 'place', 'global_rating']]\n",
    "df.shape"
   ]
  },
  {
   "cell_type": "code",
   "execution_count": 31,
   "id": "0cc1e884",
   "metadata": {},
   "outputs": [],
   "source": [
    "df = df.dropna()"
   ]
  },
  {
   "cell_type": "code",
   "execution_count": 32,
   "id": "0c7dc5b5",
   "metadata": {},
   "outputs": [],
   "source": [
    "df = df.drop_duplicates(subset=None, keep='first', inplace=False)"
   ]
  },
  {
   "cell_type": "code",
   "execution_count": 33,
   "id": "92615d1b",
   "metadata": {},
   "outputs": [],
   "source": [
    "df.insert(0,'id',range(0,df.shape[0]))"
   ]
  },
  {
   "cell_type": "code",
   "execution_count": 34,
   "id": "b9f52962",
   "metadata": {},
   "outputs": [
    {
     "data": {
      "text/plain": [
       "(14822, 5)"
      ]
     },
     "execution_count": 34,
     "metadata": {},
     "output_type": "execute_result"
    }
   ],
   "source": [
    "df.shape"
   ]
  },
  {
   "cell_type": "code",
   "execution_count": 35,
   "id": "c9753059",
   "metadata": {},
   "outputs": [
    {
     "data": {
      "text/html": [
       "<div>\n",
       "<style scoped>\n",
       "    .dataframe tbody tr th:only-of-type {\n",
       "        vertical-align: middle;\n",
       "    }\n",
       "\n",
       "    .dataframe tbody tr th {\n",
       "        vertical-align: top;\n",
       "    }\n",
       "\n",
       "    .dataframe thead th {\n",
       "        text-align: right;\n",
       "    }\n",
       "</style>\n",
       "<table border=\"1\" class=\"dataframe\">\n",
       "  <thead>\n",
       "    <tr style=\"text-align: right;\">\n",
       "      <th></th>\n",
       "      <th>id</th>\n",
       "      <th>description</th>\n",
       "      <th>user_rating</th>\n",
       "      <th>place</th>\n",
       "      <th>global_rating</th>\n",
       "    </tr>\n",
       "  </thead>\n",
       "  <tbody>\n",
       "    <tr>\n",
       "      <th>0</th>\n",
       "      <td>0</td>\n",
       "      <td>Hermoso lugar... Aunque muy fría el agua... Mu...</td>\n",
       "      <td>4.0</td>\n",
       "      <td>Balneario Agua Fría</td>\n",
       "      <td>4.0</td>\n",
       "    </tr>\n",
       "    <tr>\n",
       "      <th>1</th>\n",
       "      <td>1</td>\n",
       "      <td>La cerdad vale la pena visitar eate lugar... C...</td>\n",
       "      <td>4.0</td>\n",
       "      <td>Los Molcajetes de Villa</td>\n",
       "      <td>4.5</td>\n",
       "    </tr>\n",
       "    <tr>\n",
       "      <th>2</th>\n",
       "      <td>2</td>\n",
       "      <td>Debes visitar \"La Casa de Piedra\", ambiente mu...</td>\n",
       "      <td>4.0</td>\n",
       "      <td>La Casa de Piedra</td>\n",
       "      <td>4.0</td>\n",
       "    </tr>\n",
       "    <tr>\n",
       "      <th>3</th>\n",
       "      <td>3</td>\n",
       "      <td>Hola amig@s... Este es realmente un buen lugar...</td>\n",
       "      <td>4.0</td>\n",
       "      <td>Zoológico Guadalajara</td>\n",
       "      <td>4.5</td>\n",
       "    </tr>\n",
       "    <tr>\n",
       "      <th>4</th>\n",
       "      <td>4</td>\n",
       "      <td>Es un lugar muy tradicional en Mazatlán... exc...</td>\n",
       "      <td>4.0</td>\n",
       "      <td>El Muchacho Alegre</td>\n",
       "      <td>4.0</td>\n",
       "    </tr>\n",
       "  </tbody>\n",
       "</table>\n",
       "</div>"
      ],
      "text/plain": [
       "   id                                        description  user_rating  \\\n",
       "0   0  Hermoso lugar... Aunque muy fría el agua... Mu...          4.0   \n",
       "1   1  La cerdad vale la pena visitar eate lugar... C...          4.0   \n",
       "2   2  Debes visitar \"La Casa de Piedra\", ambiente mu...          4.0   \n",
       "3   3  Hola amig@s... Este es realmente un buen lugar...          4.0   \n",
       "4   4  Es un lugar muy tradicional en Mazatlán... exc...          4.0   \n",
       "\n",
       "                     place  global_rating  \n",
       "0      Balneario Agua Fría            4.0  \n",
       "1  Los Molcajetes de Villa            4.5  \n",
       "2        La Casa de Piedra            4.0  \n",
       "3    Zoológico Guadalajara            4.5  \n",
       "4       El Muchacho Alegre            4.0  "
      ]
     },
     "execution_count": 35,
     "metadata": {},
     "output_type": "execute_result"
    }
   ],
   "source": [
    "df.head()"
   ]
  },
  {
   "cell_type": "code",
   "execution_count": 36,
   "id": "90bd74d5",
   "metadata": {},
   "outputs": [],
   "source": [
    "# Función para eliminar los caracteres no ASCII\n",
    "# def _removeNonAscii(s):\n",
    "#    return \"\".join(i for i in s if  ord(i)<128)\n",
    "\n",
    "# Función de conversión a minúsculas\n",
    "def make_lower_case(text):\n",
    "    return text.lower()\n",
    "\n",
    "# Función de eliminación de palabras vacías\n",
    "def remove_stop_words(text):\n",
    "    text = text.split()\n",
    "    stops = set(stopwords.words(\"english\"))\n",
    "    text = [w for w in text if not w in stops]\n",
    "    texts = [w for w in text if w.isalpha()]\n",
    "    texts = \" \".join(texts)\n",
    "    return texts\n",
    "\n",
    "# Función para eliminar la puntuación\n",
    "def remove_punctuation(text):\n",
    "    tokenizer = RegexpTokenizer(r'\\w+')\n",
    "    text = tokenizer.tokenize(text)\n",
    "    text = \" \".join(text)\n",
    "    return text\n",
    "\n",
    "# Aplicando todas las funciones en la descripción y almacenando como clean_desc\n",
    "# df['cleaned_desc'] = ds['text'].apply(_removeNonAscii)\n",
    "df['cleaned_desc'] = df['place'].apply(func = make_lower_case)\n",
    "df['cleaned_desc'] = df.cleaned_desc.apply(func = remove_stop_words)\n",
    "df['cleaned_desc'] = df.cleaned_desc.apply(func=remove_punctuation)"
   ]
  },
  {
   "cell_type": "code",
   "execution_count": 37,
   "id": "3a439390",
   "metadata": {},
   "outputs": [],
   "source": [
    "# analizador para seleccionar palabras individuales por defecto \n",
    "# max_df[0.0,1.0] - se utiliza para ignorar las palabras con una frecuencia superior a 0.8 estas palabras pueden ser palabras inútiles ya que estas palabras pueden aparecer sólo una vez y pueden no tener un significado significativo\n",
    "# min_df -- razón similar a la anterior \n",
    "# use_idfbool, default=True -- Habilitar la reponderación de la frecuencia inversa del documento.\n",
    "\n",
    "tf = TfidfVectorizer(analyzer='word',stop_words='english',max_df=0.8,min_df=0.0,use_idf=True,ngram_range=(1,3))\n",
    "tfidf_matrix = tf.fit_transform(df['cleaned_desc'])    "
   ]
  },
  {
   "cell_type": "code",
   "execution_count": 38,
   "id": "2ee05ebc",
   "metadata": {},
   "outputs": [],
   "source": [
    "cosine_similarities = linear_kernel(tfidf_matrix, tfidf_matrix)"
   ]
  },
  {
   "cell_type": "code",
   "execution_count": 39,
   "id": "fa340752",
   "metadata": {},
   "outputs": [],
   "source": [
    "def recomendation(idx, no_of_rating_opinion):\n",
    "    \n",
    "    # obtener valores de similitud con otras descripciones\n",
    "    similarity_score = list(enumerate(cosine_similarities[idx]))\n",
    "    similarity_score = sorted(similarity_score, key=lambda x: x[1], reverse=True)\n",
    "    \n",
    "    # Obtenga las puntuaciones de los n descripciones más similares. Ignora la primera opinión.\n",
    "    similarity_score = similarity_score[1:no_of_rating_opinion + 1]\n",
    "    \n",
    "    print(\"Lugar: \" + df['place'].iloc[idx] + \"\\nDescripción: \"+ df['description'].iloc[idx])\n",
    "    print(\" \\n \")\n",
    "    opinion_indices = [i[0] for i in similarity_score]\n",
    "    for i in range(len(opinion_indices)):\n",
    "        print(\"Índice de Recomendación: \" + str(i + 1) + str(opinion_indices[i]) + \" \\nRating del usuario:  \" + str(df['user_rating'].iloc[opinion_indices[i]]) + \"\\nLugar: \" +\n",
    "              df['place'].iloc[opinion_indices[i]] + \"\\nDescripción: \"+ df['description'].iloc[opinion_indices[i]] +\"\\nScore: \"+ str(similarity_score[i][1]))\n",
    "        print()"
   ]
  },
  {
   "cell_type": "code",
   "execution_count": 40,
   "id": "3920b7ea",
   "metadata": {},
   "outputs": [
    {
     "name": "stdout",
     "output_type": "stream",
     "text": [
      "Lugar: Palihouse Santa Barbara\n",
      "Descripción: This a beautiful property with easy, accessible underground parking. Front desk clerk was very nice and welcoming. The first thing I typically notice about a ho...\n",
      " \n",
      " \n",
      "Índice de Recomendación: 11896 \n",
      "Rating del usuario:  4.0\n",
      "Lugar: Santa Barbara Cenotes & Restaurant\n",
      "Descripción: Los cenotes son bonitos . El lugar c tiene un estacionamiento palapa tipo loby de hotel t un gran restaurante . Muy bien acondicionado aunque en lonpersonal me ...\n",
      "Score: 0.3639368248620875\n",
      "\n",
      "Índice de Recomendación: 27988 \n",
      "Rating del usuario:  5.0\n",
      "Lugar: Santa Fe\n",
      "Descripción: This is our 4 th year going to Saint Barths for a week and having lunch here and it is superb. We recommend you come for lunch because of the view- I am pretty ...\n",
      "Score: 0.13023261628515645\n",
      "\n",
      "Índice de Recomendación: 311991 \n",
      "Rating del usuario:  5.0\n",
      "Lugar: Santa Clara\n",
      "Descripción: Con toda la deliciosa variedad que tienen ves y vuelves a ver y no sabes decidirte por cual, eso si todas elaboradas con excelente calidad y un ambiente relaja...\n",
      "Score: 0.11886820908253296\n",
      "\n",
      "Índice de Recomendación: 42849 \n",
      "Rating del usuario:  5.0\n",
      "Lugar: Santa Prisca\n",
      "Descripción: Un lugar increíble su arquitectura, historia, leyendas, sus simbolismos ... Todo es increíble. De las mejores iglesias que he visto en mi vida. Y si quieren con...\n",
      "Score: 0.1138184649804743\n",
      "\n",
      "Índice de Recomendación: 58045 \n",
      "Rating del usuario:  5.0\n",
      "Lugar: Santa Capilla\n",
      "Descripción: Mi vista fue impresionante! ya que asistí a este recinto a un concierto hermoso Les Quatre Saisons de Vivaldi, el lugar es hermoso! Esta lleno de reliquias y v...\n",
      "Score: 0.11315179694459775\n",
      "\n",
      "Índice de Recomendación: 61168 \n",
      "Rating del usuario:  40.4\n",
      "Lugar: Santa Teresa\n",
      "Descripción: desconocido\n",
      "Score: 0.1068260661587986\n",
      "\n",
      "Índice de Recomendación: 71688 \n",
      "Rating del usuario:  5.0\n",
      "Lugar: La Santa Cruz\n",
      "Descripción: Lugar un poco rústico pero muy limpio y bien ubicado en Ladrón de Guevara. Personalmente prefiero las Flautas de requesón y la Tostada de manitas de cerdo deshu...\n",
      "Score: 0.08823017779178134\n",
      "\n",
      "Índice de Recomendación: 86835 \n",
      "Rating del usuario:  4.0\n",
      "Lugar: Santa Cruz Huatulco\n",
      "Descripción: Por favor, visita los \"helados fritos\", los telares y come una tlayuda en cualquier lugar local o en el mercado, no lo puedes dejar pasar.\n",
      "Score: 0.08613033446074021\n",
      "\n",
      "Índice de Recomendación: 98669 \n",
      "Rating del usuario:  5.0\n",
      "Lugar: Santa Cruz Huatulco\n",
      "Descripción: We did the city tour and got to go to the main square, church and market. we enjoyed it so much we took a taxi to visit again.less than $5.00 to get to town b...\n",
      "Score: 0.08613033446074021\n",
      "\n",
      "Índice de Recomendación: 109944 \n",
      "Rating del usuario:  5.0\n",
      "Lugar: Santa Cruz Huatulco\n",
      "Descripción: Es un lugar para ir a caminar fuera de la zona hotelera... Si eres mochilero hay bastantes Posadas y pensiones... También locales y mercado de artesanías donde ...\n",
      "Score: 0.08613033446074021\n",
      "\n"
     ]
    }
   ],
   "source": [
    "idx=88 #min_df=0,2 -- forma: 1496 filas × 31 columnas\n",
    "no_of_rating_opinion=10\n",
    "recomendation(idx, no_of_rating_opinion)"
   ]
  },
  {
   "cell_type": "code",
   "execution_count": 41,
   "id": "e9c0fb15",
   "metadata": {},
   "outputs": [
    {
     "name": "stdout",
     "output_type": "stream",
     "text": [
      "Lugar: FollowMi Around\n",
      "Descripción: Quite good! I deeply recommend it, a particular highlight is the visit to the last supper alternate, a nice visit from Roman time to modern time.\n",
      " \n",
      " \n",
      "Índice de Recomendación: 10 \n",
      "Rating del usuario:  4.0\n",
      "Lugar: Balneario Agua Fría\n",
      "Descripción: Hermoso lugar... Aunque muy fría el agua... Muy recomendable para visitar con la familia y amigos... Debes visitarlo cuando estés es Colima...!!!\n",
      "Score: 0.0\n",
      "\n",
      "Índice de Recomendación: 21 \n",
      "Rating del usuario:  4.0\n",
      "Lugar: Los Molcajetes de Villa\n",
      "Descripción: La cerdad vale la pena visitar eate lugar... Comida excelente y un agradable ambiente... Sin duda un lygar al que no debes faltar...!!!\n",
      "Score: 0.0\n",
      "\n",
      "Índice de Recomendación: 32 \n",
      "Rating del usuario:  4.0\n",
      "Lugar: La Casa de Piedra\n",
      "Descripción: Debes visitar \"La Casa de Piedra\", ambiente muy agradable y limpio. Vale la pena que des una vuelta y disfrutes de su comida.\n",
      "Score: 0.0\n",
      "\n",
      "Índice de Recomendación: 43 \n",
      "Rating del usuario:  4.0\n",
      "Lugar: Zoológico Guadalajara\n",
      "Descripción: Hola amig@s... Este es realmente un buen lugar para la convivencia familiar, ya que podemos pasar todo un día sin sentir que tenemos tanto tiempo en el zoológic...\n",
      "Score: 0.0\n",
      "\n",
      "Índice de Recomendación: 54 \n",
      "Rating del usuario:  4.0\n",
      "Lugar: El Muchacho Alegre\n",
      "Descripción: Es un lugar muy tradicional en Mazatlán... excelente ambiente, buena música de banda, increíble comida (Molcajete muchacho alegre)... Si visitas Mazatlán, debes...\n",
      "Score: 0.0\n",
      "\n",
      "Índice de Recomendación: 65 \n",
      "Rating del usuario:  4.0\n",
      "Lugar: Malecón de Mazalán\n",
      "Descripción: La verdad es que tienes una vista increíble de la playa... Ahí encontraras un verdadero tesoro, como son las mujeres mazatlecas y muuuuucho@s turístas... Debes...\n",
      "Score: 0.0\n",
      "\n",
      "Índice de Recomendación: 76 \n",
      "Rating del usuario:  4.0\n",
      "Lugar: Hotel Fontan Ixtapa\n",
      "Descripción: Si buscas una opción económica, seguro, en la mejor playa... Tu opcion es Fontan Ixtapa... Altamente recomendable... Cerca de oxxo, mercado de artesanias, plaza...\n",
      "Score: 0.0\n",
      "\n",
      "Índice de Recomendación: 87 \n",
      "Rating del usuario:  5.0\n",
      "Lugar: Colima Capital\n",
      "Descripción: Sinceramente no conozco una ciudad tan limpia como Colima... Además si clima caluroso lo hace increíblemente hermosa, con gente amable, sincera y muy servicial....\n",
      "Score: 0.0\n",
      "\n",
      "Índice de Recomendación: 98 \n",
      "Rating del usuario:  5.0\n",
      "Lugar: Royal Decameron Complex\n",
      "Descripción: Simplemente maravilloso... Tranquilo, agradable, buen servicio... Sin duda, muy recomendable... Extraordinarios shows, comida deliciosa, bebidas aceptables... T...\n",
      "Score: 0.0\n",
      "\n",
      "Índice de Recomendación: 109 \n",
      "Rating del usuario:  5.0\n",
      "Lugar: Decameron Los Cocos\n",
      "Descripción: Simplemente hermoso el hotel, sus intalaciones, restaurante, albercas y sobre todo su playa increible... Definitivamente super recomendable para descansar... Vi...\n",
      "Score: 0.0\n",
      "\n"
     ]
    }
   ],
   "source": [
    "idx=69  #min_df=0,1 -- forma: 1496 filas × 144 columnas\n",
    "no_of_rating_opinion=10\n",
    "recomendation(idx, no_of_rating_opinion)"
   ]
  },
  {
   "cell_type": "markdown",
   "id": "0eb52b30",
   "metadata": {},
   "source": [
    "## Aplicación del sistema de recomendación a la Data de Pruebas"
   ]
  },
  {
   "cell_type": "code",
   "execution_count": 42,
   "id": "3f7c89c5",
   "metadata": {},
   "outputs": [],
   "source": [
    "users_test = pd.read_csv('DataParcial/data_test/UsuariosPrueba/users.csv')"
   ]
  },
  {
   "cell_type": "code",
   "execution_count": 43,
   "id": "8cb843b1",
   "metadata": {},
   "outputs": [
    {
     "data": {
      "text/html": [
       "<div>\n",
       "<style scoped>\n",
       "    .dataframe tbody tr th:only-of-type {\n",
       "        vertical-align: middle;\n",
       "    }\n",
       "\n",
       "    .dataframe tbody tr th {\n",
       "        vertical-align: top;\n",
       "    }\n",
       "\n",
       "    .dataframe thead th {\n",
       "        text-align: right;\n",
       "    }\n",
       "</style>\n",
       "<table border=\"1\" class=\"dataframe\">\n",
       "  <thead>\n",
       "    <tr style=\"text-align: right;\">\n",
       "      <th></th>\n",
       "      <th>desconocido</th>\n",
       "      <th>4.0</th>\n",
       "      <th>Cabot Head Lighthouse</th>\n",
       "      <th>4.0.1</th>\n",
       "    </tr>\n",
       "  </thead>\n",
       "  <tbody>\n",
       "    <tr>\n",
       "      <th>0</th>\n",
       "      <td>desconocido</td>\n",
       "      <td>4.0</td>\n",
       "      <td>Cabot Head Lighthouse</td>\n",
       "      <td>4.0</td>\n",
       "    </tr>\n",
       "    <tr>\n",
       "      <th>1</th>\n",
       "      <td>desconocido</td>\n",
       "      <td>4.0</td>\n",
       "      <td>Cabot Head Lighthouse</td>\n",
       "      <td>4.0</td>\n",
       "    </tr>\n",
       "    <tr>\n",
       "      <th>2</th>\n",
       "      <td>desconocido</td>\n",
       "      <td>4.0</td>\n",
       "      <td>Cabot Head Lighthouse</td>\n",
       "      <td>4.0</td>\n",
       "    </tr>\n",
       "    <tr>\n",
       "      <th>3</th>\n",
       "      <td>desconocido</td>\n",
       "      <td>4.0</td>\n",
       "      <td>Cabot Head Lighthouse</td>\n",
       "      <td>4.0</td>\n",
       "    </tr>\n",
       "    <tr>\n",
       "      <th>4</th>\n",
       "      <td>desconocido</td>\n",
       "      <td>4.0</td>\n",
       "      <td>Cabot Head Lighthouse</td>\n",
       "      <td>4.0</td>\n",
       "    </tr>\n",
       "    <tr>\n",
       "      <th>...</th>\n",
       "      <td>...</td>\n",
       "      <td>...</td>\n",
       "      <td>...</td>\n",
       "      <td>...</td>\n",
       "    </tr>\n",
       "    <tr>\n",
       "      <th>11487</th>\n",
       "      <td>This park is older but everything is in workin...</td>\n",
       "      <td>4.0</td>\n",
       "      <td>Aquaventuras Park</td>\n",
       "      <td>4.0</td>\n",
       "    </tr>\n",
       "    <tr>\n",
       "      <th>11488</th>\n",
       "      <td>The Malecon stretches from The south end of ho...</td>\n",
       "      <td>5.0</td>\n",
       "      <td>Malecón Boardwalk</td>\n",
       "      <td>4.5</td>\n",
       "    </tr>\n",
       "    <tr>\n",
       "      <th>11489</th>\n",
       "      <td>The trip to Marietas Islands and the hidden be...</td>\n",
       "      <td>4.0</td>\n",
       "      <td>Islas Marietas</td>\n",
       "      <td>4.5</td>\n",
       "    </tr>\n",
       "    <tr>\n",
       "      <th>11490</th>\n",
       "      <td>The hotel was right on the beach, so that was ...</td>\n",
       "      <td>3.0</td>\n",
       "      <td>Hampton Inn Pensacola Beach</td>\n",
       "      <td>4.0</td>\n",
       "    </tr>\n",
       "    <tr>\n",
       "      <th>11491</th>\n",
       "      <td>\u001a</td>\n",
       "      <td>NaN</td>\n",
       "      <td>NaN</td>\n",
       "      <td>NaN</td>\n",
       "    </tr>\n",
       "  </tbody>\n",
       "</table>\n",
       "<p>11492 rows × 4 columns</p>\n",
       "</div>"
      ],
      "text/plain": [
       "                                             desconocido  4.0  \\\n",
       "0                                            desconocido  4.0   \n",
       "1                                            desconocido  4.0   \n",
       "2                                            desconocido  4.0   \n",
       "3                                            desconocido  4.0   \n",
       "4                                            desconocido  4.0   \n",
       "...                                                  ...  ...   \n",
       "11487  This park is older but everything is in workin...  4.0   \n",
       "11488  The Malecon stretches from The south end of ho...  5.0   \n",
       "11489  The trip to Marietas Islands and the hidden be...  4.0   \n",
       "11490  The hotel was right on the beach, so that was ...  3.0   \n",
       "11491                                                  \u001a  NaN   \n",
       "\n",
       "             Cabot Head Lighthouse  4.0.1  \n",
       "0            Cabot Head Lighthouse    4.0  \n",
       "1            Cabot Head Lighthouse    4.0  \n",
       "2            Cabot Head Lighthouse    4.0  \n",
       "3            Cabot Head Lighthouse    4.0  \n",
       "4            Cabot Head Lighthouse    4.0  \n",
       "...                            ...    ...  \n",
       "11487            Aquaventuras Park    4.0  \n",
       "11488            Malecón Boardwalk    4.5  \n",
       "11489               Islas Marietas    4.5  \n",
       "11490  Hampton Inn Pensacola Beach    4.0  \n",
       "11491                          NaN    NaN  \n",
       "\n",
       "[11492 rows x 4 columns]"
      ]
     },
     "execution_count": 43,
     "metadata": {},
     "output_type": "execute_result"
    }
   ],
   "source": [
    "users_test"
   ]
  },
  {
   "cell_type": "code",
   "execution_count": 44,
   "id": "b1462188",
   "metadata": {},
   "outputs": [
    {
     "data": {
      "text/html": [
       "<div>\n",
       "<style scoped>\n",
       "    .dataframe tbody tr th:only-of-type {\n",
       "        vertical-align: middle;\n",
       "    }\n",
       "\n",
       "    .dataframe tbody tr th {\n",
       "        vertical-align: top;\n",
       "    }\n",
       "\n",
       "    .dataframe thead th {\n",
       "        text-align: right;\n",
       "    }\n",
       "</style>\n",
       "<table border=\"1\" class=\"dataframe\">\n",
       "  <thead>\n",
       "    <tr style=\"text-align: right;\">\n",
       "      <th></th>\n",
       "      <th>description</th>\n",
       "      <th>user_rating</th>\n",
       "      <th>place</th>\n",
       "      <th>global_rating</th>\n",
       "    </tr>\n",
       "  </thead>\n",
       "  <tbody>\n",
       "    <tr>\n",
       "      <th>0</th>\n",
       "      <td>desconocido</td>\n",
       "      <td>4.0</td>\n",
       "      <td>Cabot Head Lighthouse</td>\n",
       "      <td>4.0</td>\n",
       "    </tr>\n",
       "    <tr>\n",
       "      <th>1</th>\n",
       "      <td>desconocido</td>\n",
       "      <td>4.0</td>\n",
       "      <td>Cabot Head Lighthouse</td>\n",
       "      <td>4.0</td>\n",
       "    </tr>\n",
       "    <tr>\n",
       "      <th>2</th>\n",
       "      <td>desconocido</td>\n",
       "      <td>4.0</td>\n",
       "      <td>Cabot Head Lighthouse</td>\n",
       "      <td>4.0</td>\n",
       "    </tr>\n",
       "    <tr>\n",
       "      <th>3</th>\n",
       "      <td>desconocido</td>\n",
       "      <td>4.0</td>\n",
       "      <td>Cabot Head Lighthouse</td>\n",
       "      <td>4.0</td>\n",
       "    </tr>\n",
       "    <tr>\n",
       "      <th>4</th>\n",
       "      <td>desconocido</td>\n",
       "      <td>4.0</td>\n",
       "      <td>Cabot Head Lighthouse</td>\n",
       "      <td>4.0</td>\n",
       "    </tr>\n",
       "    <tr>\n",
       "      <th>...</th>\n",
       "      <td>...</td>\n",
       "      <td>...</td>\n",
       "      <td>...</td>\n",
       "      <td>...</td>\n",
       "    </tr>\n",
       "    <tr>\n",
       "      <th>11487</th>\n",
       "      <td>This park is older but everything is in workin...</td>\n",
       "      <td>4.0</td>\n",
       "      <td>Aquaventuras Park</td>\n",
       "      <td>4.0</td>\n",
       "    </tr>\n",
       "    <tr>\n",
       "      <th>11488</th>\n",
       "      <td>The Malecon stretches from The south end of ho...</td>\n",
       "      <td>5.0</td>\n",
       "      <td>Malecón Boardwalk</td>\n",
       "      <td>4.5</td>\n",
       "    </tr>\n",
       "    <tr>\n",
       "      <th>11489</th>\n",
       "      <td>The trip to Marietas Islands and the hidden be...</td>\n",
       "      <td>4.0</td>\n",
       "      <td>Islas Marietas</td>\n",
       "      <td>4.5</td>\n",
       "    </tr>\n",
       "    <tr>\n",
       "      <th>11490</th>\n",
       "      <td>The hotel was right on the beach, so that was ...</td>\n",
       "      <td>3.0</td>\n",
       "      <td>Hampton Inn Pensacola Beach</td>\n",
       "      <td>4.0</td>\n",
       "    </tr>\n",
       "    <tr>\n",
       "      <th>11491</th>\n",
       "      <td>\u001a</td>\n",
       "      <td>NaN</td>\n",
       "      <td>NaN</td>\n",
       "      <td>NaN</td>\n",
       "    </tr>\n",
       "  </tbody>\n",
       "</table>\n",
       "<p>11492 rows × 4 columns</p>\n",
       "</div>"
      ],
      "text/plain": [
       "                                             description  user_rating  \\\n",
       "0                                            desconocido          4.0   \n",
       "1                                            desconocido          4.0   \n",
       "2                                            desconocido          4.0   \n",
       "3                                            desconocido          4.0   \n",
       "4                                            desconocido          4.0   \n",
       "...                                                  ...          ...   \n",
       "11487  This park is older but everything is in workin...          4.0   \n",
       "11488  The Malecon stretches from The south end of ho...          5.0   \n",
       "11489  The trip to Marietas Islands and the hidden be...          4.0   \n",
       "11490  The hotel was right on the beach, so that was ...          3.0   \n",
       "11491                                                  \u001a          NaN   \n",
       "\n",
       "                             place  global_rating  \n",
       "0            Cabot Head Lighthouse            4.0  \n",
       "1            Cabot Head Lighthouse            4.0  \n",
       "2            Cabot Head Lighthouse            4.0  \n",
       "3            Cabot Head Lighthouse            4.0  \n",
       "4            Cabot Head Lighthouse            4.0  \n",
       "...                            ...            ...  \n",
       "11487            Aquaventuras Park            4.0  \n",
       "11488            Malecón Boardwalk            4.5  \n",
       "11489               Islas Marietas            4.5  \n",
       "11490  Hampton Inn Pensacola Beach            4.0  \n",
       "11491                          NaN            NaN  \n",
       "\n",
       "[11492 rows x 4 columns]"
      ]
     },
     "execution_count": 44,
     "metadata": {},
     "output_type": "execute_result"
    }
   ],
   "source": [
    "users_test.columns = ['description', 'user_rating', 'place', 'global_rating']\n",
    "users_test"
   ]
  },
  {
   "cell_type": "code",
   "execution_count": 45,
   "id": "109c0803",
   "metadata": {},
   "outputs": [
    {
     "data": {
      "text/html": [
       "<div>\n",
       "<style scoped>\n",
       "    .dataframe tbody tr th:only-of-type {\n",
       "        vertical-align: middle;\n",
       "    }\n",
       "\n",
       "    .dataframe tbody tr th {\n",
       "        vertical-align: top;\n",
       "    }\n",
       "\n",
       "    .dataframe thead th {\n",
       "        text-align: right;\n",
       "    }\n",
       "</style>\n",
       "<table border=\"1\" class=\"dataframe\">\n",
       "  <thead>\n",
       "    <tr style=\"text-align: right;\">\n",
       "      <th></th>\n",
       "      <th>id</th>\n",
       "      <th>description</th>\n",
       "      <th>user_rating</th>\n",
       "      <th>place</th>\n",
       "      <th>global_rating</th>\n",
       "    </tr>\n",
       "  </thead>\n",
       "  <tbody>\n",
       "    <tr>\n",
       "      <th>0</th>\n",
       "      <td>0</td>\n",
       "      <td>desconocido</td>\n",
       "      <td>4.0</td>\n",
       "      <td>Cabot Head Lighthouse</td>\n",
       "      <td>4.0</td>\n",
       "    </tr>\n",
       "    <tr>\n",
       "      <th>1</th>\n",
       "      <td>1</td>\n",
       "      <td>desconocido</td>\n",
       "      <td>4.0</td>\n",
       "      <td>Cabot Head Lighthouse</td>\n",
       "      <td>4.0</td>\n",
       "    </tr>\n",
       "    <tr>\n",
       "      <th>2</th>\n",
       "      <td>2</td>\n",
       "      <td>desconocido</td>\n",
       "      <td>4.0</td>\n",
       "      <td>Cabot Head Lighthouse</td>\n",
       "      <td>4.0</td>\n",
       "    </tr>\n",
       "    <tr>\n",
       "      <th>3</th>\n",
       "      <td>3</td>\n",
       "      <td>desconocido</td>\n",
       "      <td>4.0</td>\n",
       "      <td>Cabot Head Lighthouse</td>\n",
       "      <td>4.0</td>\n",
       "    </tr>\n",
       "    <tr>\n",
       "      <th>4</th>\n",
       "      <td>4</td>\n",
       "      <td>desconocido</td>\n",
       "      <td>4.0</td>\n",
       "      <td>Cabot Head Lighthouse</td>\n",
       "      <td>4.0</td>\n",
       "    </tr>\n",
       "    <tr>\n",
       "      <th>...</th>\n",
       "      <td>...</td>\n",
       "      <td>...</td>\n",
       "      <td>...</td>\n",
       "      <td>...</td>\n",
       "      <td>...</td>\n",
       "    </tr>\n",
       "    <tr>\n",
       "      <th>11487</th>\n",
       "      <td>11487</td>\n",
       "      <td>This park is older but everything is in workin...</td>\n",
       "      <td>4.0</td>\n",
       "      <td>Aquaventuras Park</td>\n",
       "      <td>4.0</td>\n",
       "    </tr>\n",
       "    <tr>\n",
       "      <th>11488</th>\n",
       "      <td>11488</td>\n",
       "      <td>The Malecon stretches from The south end of ho...</td>\n",
       "      <td>5.0</td>\n",
       "      <td>Malecón Boardwalk</td>\n",
       "      <td>4.5</td>\n",
       "    </tr>\n",
       "    <tr>\n",
       "      <th>11489</th>\n",
       "      <td>11489</td>\n",
       "      <td>The trip to Marietas Islands and the hidden be...</td>\n",
       "      <td>4.0</td>\n",
       "      <td>Islas Marietas</td>\n",
       "      <td>4.5</td>\n",
       "    </tr>\n",
       "    <tr>\n",
       "      <th>11490</th>\n",
       "      <td>11490</td>\n",
       "      <td>The hotel was right on the beach, so that was ...</td>\n",
       "      <td>3.0</td>\n",
       "      <td>Hampton Inn Pensacola Beach</td>\n",
       "      <td>4.0</td>\n",
       "    </tr>\n",
       "    <tr>\n",
       "      <th>11491</th>\n",
       "      <td>11491</td>\n",
       "      <td>\u001a</td>\n",
       "      <td>NaN</td>\n",
       "      <td>NaN</td>\n",
       "      <td>NaN</td>\n",
       "    </tr>\n",
       "  </tbody>\n",
       "</table>\n",
       "<p>11492 rows × 5 columns</p>\n",
       "</div>"
      ],
      "text/plain": [
       "          id                                        description  user_rating  \\\n",
       "0          0                                        desconocido          4.0   \n",
       "1          1                                        desconocido          4.0   \n",
       "2          2                                        desconocido          4.0   \n",
       "3          3                                        desconocido          4.0   \n",
       "4          4                                        desconocido          4.0   \n",
       "...      ...                                                ...          ...   \n",
       "11487  11487  This park is older but everything is in workin...          4.0   \n",
       "11488  11488  The Malecon stretches from The south end of ho...          5.0   \n",
       "11489  11489  The trip to Marietas Islands and the hidden be...          4.0   \n",
       "11490  11490  The hotel was right on the beach, so that was ...          3.0   \n",
       "11491  11491                                                  \u001a          NaN   \n",
       "\n",
       "                             place  global_rating  \n",
       "0            Cabot Head Lighthouse            4.0  \n",
       "1            Cabot Head Lighthouse            4.0  \n",
       "2            Cabot Head Lighthouse            4.0  \n",
       "3            Cabot Head Lighthouse            4.0  \n",
       "4            Cabot Head Lighthouse            4.0  \n",
       "...                            ...            ...  \n",
       "11487            Aquaventuras Park            4.0  \n",
       "11488            Malecón Boardwalk            4.5  \n",
       "11489               Islas Marietas            4.5  \n",
       "11490  Hampton Inn Pensacola Beach            4.0  \n",
       "11491                          NaN            NaN  \n",
       "\n",
       "[11492 rows x 5 columns]"
      ]
     },
     "execution_count": 45,
     "metadata": {},
     "output_type": "execute_result"
    }
   ],
   "source": [
    "users_test.insert(0,'id', range(0,users_test.shape[0]))\n",
    "users_test"
   ]
  },
  {
   "cell_type": "code",
   "execution_count": 46,
   "id": "b4288d60",
   "metadata": {},
   "outputs": [
    {
     "data": {
      "text/plain": [
       "(11492, 4)"
      ]
     },
     "execution_count": 46,
     "metadata": {},
     "output_type": "execute_result"
    }
   ],
   "source": [
    "df_test = users_test[['description', 'user_rating', 'place', 'global_rating']]\n",
    "df_test.shape"
   ]
  },
  {
   "cell_type": "code",
   "execution_count": 47,
   "id": "2798a140",
   "metadata": {},
   "outputs": [],
   "source": [
    "df_test = df_test.dropna()\n",
    "df_test = df_test.drop_duplicates(subset=None, keep='first', inplace=False)\n",
    "df_test.insert(0, 'id', range(0, df_test.shape[0]))"
   ]
  },
  {
   "cell_type": "code",
   "execution_count": 48,
   "id": "ac548798",
   "metadata": {},
   "outputs": [
    {
     "data": {
      "text/plain": [
       "(7086, 5)"
      ]
     },
     "execution_count": 48,
     "metadata": {},
     "output_type": "execute_result"
    }
   ],
   "source": [
    "df_test.shape"
   ]
  },
  {
   "cell_type": "code",
   "execution_count": 49,
   "id": "090749a5",
   "metadata": {},
   "outputs": [
    {
     "data": {
      "text/html": [
       "<div>\n",
       "<style scoped>\n",
       "    .dataframe tbody tr th:only-of-type {\n",
       "        vertical-align: middle;\n",
       "    }\n",
       "\n",
       "    .dataframe tbody tr th {\n",
       "        vertical-align: top;\n",
       "    }\n",
       "\n",
       "    .dataframe thead th {\n",
       "        text-align: right;\n",
       "    }\n",
       "</style>\n",
       "<table border=\"1\" class=\"dataframe\">\n",
       "  <thead>\n",
       "    <tr style=\"text-align: right;\">\n",
       "      <th></th>\n",
       "      <th>id</th>\n",
       "      <th>description</th>\n",
       "      <th>user_rating</th>\n",
       "      <th>place</th>\n",
       "      <th>global_rating</th>\n",
       "    </tr>\n",
       "  </thead>\n",
       "  <tbody>\n",
       "    <tr>\n",
       "      <th>0</th>\n",
       "      <td>0</td>\n",
       "      <td>desconocido</td>\n",
       "      <td>4.0</td>\n",
       "      <td>Cabot Head Lighthouse</td>\n",
       "      <td>4.0</td>\n",
       "    </tr>\n",
       "    <tr>\n",
       "      <th>8</th>\n",
       "      <td>1</td>\n",
       "      <td>We stayed here for 2 weeks this winter and had...</td>\n",
       "      <td>3.0</td>\n",
       "      <td>Brisas Sierra Mar Hotel</td>\n",
       "      <td>3.5</td>\n",
       "    </tr>\n",
       "    <tr>\n",
       "      <th>9</th>\n",
       "      <td>2</td>\n",
       "      <td>The Green Door is a local gem. In fact, it's o...</td>\n",
       "      <td>4.0</td>\n",
       "      <td>Green Door Cafe</td>\n",
       "      <td>4.5</td>\n",
       "    </tr>\n",
       "    <tr>\n",
       "      <th>10</th>\n",
       "      <td>3</td>\n",
       "      <td>Of all the local photo ops, this one is a \"mus...</td>\n",
       "      <td>4.0</td>\n",
       "      <td>Wiarton Willie Statue</td>\n",
       "      <td>4.0</td>\n",
       "    </tr>\n",
       "    <tr>\n",
       "      <th>11</th>\n",
       "      <td>4</td>\n",
       "      <td>After having spent 2 weeks at Playa Pesquero (...</td>\n",
       "      <td>3.0</td>\n",
       "      <td>Fiesta Americana Holguin Costa Verde</td>\n",
       "      <td>4.0</td>\n",
       "    </tr>\n",
       "  </tbody>\n",
       "</table>\n",
       "</div>"
      ],
      "text/plain": [
       "    id                                        description  user_rating  \\\n",
       "0    0                                        desconocido          4.0   \n",
       "8    1  We stayed here for 2 weeks this winter and had...          3.0   \n",
       "9    2  The Green Door is a local gem. In fact, it's o...          4.0   \n",
       "10   3  Of all the local photo ops, this one is a \"mus...          4.0   \n",
       "11   4  After having spent 2 weeks at Playa Pesquero (...          3.0   \n",
       "\n",
       "                                   place  global_rating  \n",
       "0                  Cabot Head Lighthouse            4.0  \n",
       "8                Brisas Sierra Mar Hotel            3.5  \n",
       "9                        Green Door Cafe            4.5  \n",
       "10                 Wiarton Willie Statue            4.0  \n",
       "11  Fiesta Americana Holguin Costa Verde            4.0  "
      ]
     },
     "execution_count": 49,
     "metadata": {},
     "output_type": "execute_result"
    }
   ],
   "source": [
    "df_test.head()"
   ]
  },
  {
   "cell_type": "code",
   "execution_count": 50,
   "id": "abf93d0c",
   "metadata": {},
   "outputs": [],
   "source": [
    "df_test['cleaned_desc'] = df_test['place'].apply(func = make_lower_case)\n",
    "df_test['cleaned_desc'] = df_test.cleaned_desc.apply(func = remove_stop_words)\n",
    "df_test['cleaned_desc'] = df_test.cleaned_desc.apply(func=remove_punctuation)"
   ]
  },
  {
   "cell_type": "code",
   "execution_count": 51,
   "id": "7444a30e",
   "metadata": {},
   "outputs": [],
   "source": [
    "tf_test = TfidfVectorizer(analyzer='word',stop_words='english',max_df=0.8,min_df=0.0,use_idf=True,ngram_range=(1,3))\n",
    "tfidf_matrix_test = tf_test.fit_transform(df_test['cleaned_desc'])"
   ]
  },
  {
   "cell_type": "code",
   "execution_count": 52,
   "id": "46a457cd",
   "metadata": {},
   "outputs": [],
   "source": [
    "cosine_similarities_test = linear_kernel(tfidf_matrix_test, tfidf_matrix_test)"
   ]
  },
  {
   "cell_type": "code",
   "execution_count": 53,
   "id": "eda6029d",
   "metadata": {},
   "outputs": [],
   "source": [
    "def recomendation_test_data(idx, no_of_rating_opinion):\n",
    "    \n",
    "    # obtener valores de similitud con otras descripciones\n",
    "    similarity_score = list(enumerate(cosine_similarities_test[idx]))\n",
    "    similarity_score = sorted(similarity_score, key=lambda x: x[1], reverse=True)\n",
    "    \n",
    "    # Obtenga las puntuaciones de los n descripciones más similares. Ignora la primera opinión.\n",
    "    similarity_score = similarity_score[1:no_of_rating_opinion + 1]\n",
    "    \n",
    "    print(\"Lugar: \" + df_test['place'].iloc[idx] + \"\\nDescripción: \"+ df_test['description'].iloc[idx])\n",
    "    print(\" \\n \")\n",
    "    opinion_indices = [i[0] for i in similarity_score]\n",
    "    for i in range(len(opinion_indices)):\n",
    "        print(\"Índice de Recomendación: \" + str(i + 1) + str(opinion_indices[i]) + \" \\nRating del usuario:  \" + str(df_test['user_rating'].iloc[opinion_indices[i]]) + \"\\nLugar: \" +\n",
    "              df_test['place'].iloc[opinion_indices[i]] + \"\\nDescripción: \"+ df_test['description'].iloc[opinion_indices[i]] +\"\\nScore: \"+ str(similarity_score[i][1]))\n",
    "        print()"
   ]
  },
  {
   "cell_type": "code",
   "execution_count": 54,
   "id": "1b319ee6",
   "metadata": {},
   "outputs": [
    {
     "name": "stdout",
     "output_type": "stream",
     "text": [
      "Lugar: Parque Xel-Há\n",
      "Descripción: Ya habia visitado Xel-há, pero esta vez me encantó mas, porque tienen la nueva modalidad de que puedes contratar el paquete de fotografias ilimitadas, es decir,...\n",
      " \n",
      " \n",
      "Índice de Recomendación: 1465 \n",
      "Rating del usuario:  5.0\n",
      "Lugar: Parque Xel-Há\n",
      "Descripción: Me encanto ver tantos peces!! Es un lugar padrisimo para ir con niños...todos los recorridos vale la pena hacerlos\n",
      "Score: 1.0\n",
      "\n",
      "Índice de Recomendación: 2977 \n",
      "Rating del usuario:  5.0\n",
      "Lugar: Parque Xel-Há\n",
      "Descripción: Este parq es fantastico en su mayoria d instalaciones es natural las caletas geniales para el esnorquel la comida estupenda cerveza d la mejor hermosas playas y...\n",
      "Score: 1.0\n",
      "\n",
      "Índice de Recomendación: 31619 \n",
      "Rating del usuario:  5.0\n",
      "Lugar: Parque Xel-Há\n",
      "Descripción: Es la segunda ocasión que voy con mis hijos pequeños Les encanta estar todo el día en el agua,,,, y más les gusta el ares infantil La comida muy rica Al final ...\n",
      "Score: 1.0\n",
      "\n",
      "Índice de Recomendación: 42398 \n",
      "Rating del usuario:  5.0\n",
      "Lugar: Parque Xel-Há\n",
      "Descripción: Como todos los parques del grupo Xcaret, Xel Ha está perfectamente organizado, todo súper limpio, bien señalizado y con muchas actividades para divertir a grand...\n",
      "Score: 1.0\n",
      "\n",
      "Índice de Recomendación: 52527 \n",
      "Rating del usuario:  5.0\n",
      "Lugar: Parque Xel-Há\n",
      "Descripción: Compramos la excursión sin ninguna expectativa, ya que al conocer Xcaret, es difícil sorpenderse. Pero no, nos sorprendió, y mucho!!! Lo primero que hicimos al ...\n",
      "Score: 1.0\n",
      "\n",
      "Índice de Recomendación: 63834 \n",
      "Rating del usuario:  2.0\n",
      "Lugar: Parque Xel-Há\n",
      "Descripción: el parque es magnifico, la gente muy amable.... sin embargo yo tengo una queja sobre sus alimentos... el año pasado que fui me salio una cucaracha gigante en mi...\n",
      "Score: 1.0\n",
      "\n",
      "Índice de Recomendación: 75524 \n",
      "Rating del usuario:  5.0\n",
      "Lugar: Parque Xel-Há\n",
      "Descripción: Un parque maravilloso para visitar si te gusta el mar nadar con mantarrayas, delfines, hacer snorkel éste parque es para tí. Puedes nadar a lo largo de la cale...\n",
      "Score: 1.0\n",
      "\n",
      "Índice de Recomendación: 8662 \n",
      "Rating del usuario:  5.0\n",
      "Lugar: Parque Xcaret\n",
      "Descripción: Esta vez disfrutamos el paquete muchísimo ya que lo completamos en su totalidad, lo cual nos llevó para realmente disfrutarlo 5 días. El área de niños que se ab...\n",
      "Score: 0.45030053744605125\n",
      "\n",
      "Índice de Recomendación: 9976 \n",
      "Rating del usuario:  3.0\n",
      "Lugar: Parque Xcaret\n",
      "Descripción: Buen dia en cuanto respecta al parque las instalaciones y actividades todo bien... lo q se me hace una grandisima desilucion es el modo tarifario es decir todas...\n",
      "Score: 0.45030053744605125\n",
      "\n",
      "Índice de Recomendación: 102740 \n",
      "Rating del usuario:  5.0\n",
      "Lugar: Parque Xcaret\n",
      "Descripción: En el 2007 tuve la oportunidad de realizar mi servicio social para una AC que se encuentra en el parque Xcaret por lo que conocí el parque muy bien, hasta viví ...\n",
      "Score: 0.45030053744605125\n",
      "\n"
     ]
    }
   ],
   "source": [
    "idx=450\n",
    "no_of_rating_opinion=10\n",
    "recomendation_test_data(idx, no_of_rating_opinion)"
   ]
  },
  {
   "cell_type": "markdown",
   "id": "6d002b2d",
   "metadata": {},
   "source": [
    "### Expliación de resultados"
   ]
  },
  {
   "cell_type": "markdown",
   "id": "7c3b2fd7",
   "metadata": {},
   "source": [
    "Como podemos observar, el sistema de recomendación está basado en contenido, el sistema interpreta la descripción que hace el usuario sobre el destino y junto con las calificaciones, recomienda sitios a los que seguramente el usuario le gustaría ir. En el dataset de pruebas, el usuario 88 califica el destino \"Palihouse Santa Barbara\" como un sitio agradable de visitar, y hace hincapié en la amabilidad del empleado, basado en esto, el sistema recomienda otros sitios en los que los usuarios tuvieron experiencias similares, como podemos apreciar, recomienda el destino \"Santa Capilla\", un lugar que para el usuario que lo visitó fue igual de gratificante. En general este es el comportamiento del sistema, juntando las palabras clave y el coseno de similitud obtiene resultados y según el puntaje \"score\" asignará o no la recomendación a dicho usuario."
   ]
  },
  {
   "cell_type": "markdown",
   "id": "ce748981",
   "metadata": {},
   "source": [
    "En conclusión estos sistemas de recomendación son propicios para sitios en los que se necesita generar una atracción mayor del consumidor, en este caso, los usuarios de una app de viajeros como TripAdvisor. El hecho de generar recomendaciones basadas en contenido no solo potencia el crecimiento de la aplicación, sino también el de los sitios turísticos. Además, este tipo de sistemas pueden tener una influencia muy grande en temas políticos, sociales y culturales, pues la forma en la que un sitio web, aplicación recomienda contenido puede determinar acciones, sentimientos y emociones en las personas, esto es una forma muy contemporánea de control psicopolítico y es algo de lo que no somos conscientes."
   ]
  }
 ],
 "metadata": {
  "kernelspec": {
   "display_name": "Python 3 (ipykernel)",
   "language": "python",
   "name": "python3"
  },
  "language_info": {
   "codemirror_mode": {
    "name": "ipython",
    "version": 3
   },
   "file_extension": ".py",
   "mimetype": "text/x-python",
   "name": "python",
   "nbconvert_exporter": "python",
   "pygments_lexer": "ipython3",
   "version": "3.9.12"
  }
 },
 "nbformat": 4,
 "nbformat_minor": 5
}
