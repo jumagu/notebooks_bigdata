{
 "cells": [
  {
   "cell_type": "markdown",
   "id": "f95c31c5",
   "metadata": {},
   "source": [
    "# Taller No 1"
   ]
  },
  {
   "cell_type": "markdown",
   "id": "d8033be0",
   "metadata": {},
   "source": [
    "Taller de ejemplo en ipython\n"
   ]
  },
  {
   "cell_type": "code",
   "execution_count": 1,
   "id": "626eabc9",
   "metadata": {},
   "outputs": [],
   "source": [
    "import requests\n",
    "import lxml.html as html\n",
    "import pandas as pd"
   ]
  },
  {
   "cell_type": "code",
   "execution_count": 2,
   "id": "fb2d31dc",
   "metadata": {},
   "outputs": [],
   "source": [
    "url_padre = 'https://books.toscrape.com/index.html'\n",
    "root_url = 'https://books.toscrape.com/'"
   ]
  },
  {
   "cell_type": "code",
   "execution_count": 3,
   "id": "11d93d36",
   "metadata": {},
   "outputs": [],
   "source": [
    "#obtener links de categorias de libros\n",
    "links_categorias='//ul[@class=\"nav nav-list\"]/li//ul/li/a/@href'\n",
    "#obtener el titulo de cada libro\n",
    "titulo='//article[@class=\"product_pod\"]//h3/a/text()'\n",
    "#obtener el precio de cada libro\n",
    "precios='//div[@class=\"product_price\"]/p[@class=\"price_color\"]/text()'\n"
   ]
  },
  {
   "cell_type": "code",
   "execution_count": 4,
   "id": "f0e3e6de",
   "metadata": {},
   "outputs": [],
   "source": [
    "#requests\n",
    "r=requests.get(url_padre)\n",
    "\n",
    "home=r.content.decode('utf-8')\n",
    "\n",
    "parser=html.fromstring(home)\n",
    "\n",
    "categorias_url=parser.xpath(links_categorias)\n",
    "categorias_url=[root_url+x for x in categorias_url]"
   ]
  },
  {
   "cell_type": "code",
   "execution_count": 5,
   "id": "ab8d4ec6",
   "metadata": {},
   "outputs": [
    {
     "name": "stdout",
     "output_type": "stream",
     "text": [
      "[\"Scott Pilgrim's Precious Little ...\", 'Tsubasa: WoRLD CHRoNiCLE 2 ...', 'This One Summer', 'The Nameless City (The ...', 'Saga, Volume 5 (Saga ...', 'Rat Queens, Vol. 3: ...', 'Princess Jellyfish 2-in-1 Omnibus, ...', 'Pop Gun War, Volume ...', 'Patience', 'Outcast, Vol. 1: A ...', 'orange: The Complete Collection ...', 'Lumberjanes, Vol. 2: Friendship ...', 'Lumberjanes, Vol. 1: Beware ...', 'Lumberjanes Vol. 3: A ...', 'I Hate Fairyland, Vol. ...', 'I am a Hero ...', 'Giant Days, Vol. 2 ...', 'Danganronpa Volume 1', 'Codename Baboushka, Volume 1: ...', 'Camp Midnight'] ['£52.29', '£16.28', '£19.49', '£38.16', '£51.04', '£50.40', '£13.61', '£18.97', '£10.16', '£15.44', '£48.41', '£46.91', '£45.61', '£19.92', '£29.17', '£54.63', '£22.11', '£51.99', '£36.72', '£17.08']\n"
     ]
    }
   ],
   "source": [
    "r=requests.get(categorias_url[3])\n",
    "\n",
    "home=r.content.decode('utf-8')\n",
    "\n",
    "parser=html.fromstring(home)\n",
    "\n",
    "titulos_book=parser.xpath(titulo)\n",
    "prc = parser.xpath(precios)\n",
    "print(titulos_book, prc)"
   ]
  },
  {
   "cell_type": "code",
   "execution_count": 6,
   "id": "5a187c3f",
   "metadata": {},
   "outputs": [],
   "source": [
    "def get_urls(url_padre):\n",
    "    root_url= 'https://books.toscrape.com/'\n",
    "    #obtener links de categorias de libros\n",
    "    links_categorias='//ul[@class=\"nav nav-list\"]/li//ul/li/a/@href'\n",
    "    r=requests.get(url_padre)\n",
    "    home=r.content.decode('utf-8')\n",
    "    \n",
    "    parser=html.fromstring(home)\n",
    "    \n",
    "    categorias_url=parser.xpath(links_categorias)\n",
    "    categorias_url=[root_url+x for x in categorias_url]\n",
    "    return categorias_url"
   ]
  },
  {
   "cell_type": "code",
   "execution_count": 7,
   "id": "a9c7711f",
   "metadata": {},
   "outputs": [],
   "source": [
    "def parser_content(url):\n",
    "    contenido_dic={}\n",
    "    \n",
    "    r=requests.get(url)\n",
    "    \n",
    "    home=r.content.decode('utf-8')   \n",
    "    parser=html.fromstring(home)\n",
    "    if r.status_code==200:\n",
    "        #obtener titulos de libro\n",
    "        titulo='//article[@class=\"product_pod\"]//h3/a/text()'\n",
    "        titulos_book=parser.xpath(titulo)\n",
    "        contenido_dic['Book title']=titulos_book\n",
    "        #obtener precios\n",
    "        precios='//div[@class=\"product_price\"]/p[@class=\"price_color\"]/text()'\n",
    "        prc = parser.xpath(precios)\n",
    "        contenido_dic['Book price']=prc\n",
    "    return contenido_dic"
   ]
  },
  {
   "cell_type": "code",
   "execution_count": 8,
   "id": "8b9bb581",
   "metadata": {},
   "outputs": [],
   "source": [
    "links_entregar=get_urls(url_padre)"
   ]
  },
  {
   "cell_type": "code",
   "execution_count": 9,
   "id": "39ca0572",
   "metadata": {},
   "outputs": [
    {
     "data": {
      "text/plain": [
       "50"
      ]
     },
     "execution_count": 9,
     "metadata": {},
     "output_type": "execute_result"
    }
   ],
   "source": [
    "len(links_entregar)"
   ]
  },
  {
   "cell_type": "code",
   "execution_count": 10,
   "id": "a46d5042",
   "metadata": {},
   "outputs": [
    {
     "name": "stdout",
     "output_type": "stream",
     "text": [
      "Se está scrapeando la pag número 0\n",
      "Se está scrapeando la pag número 1\n",
      "Se está scrapeando la pag número 2\n",
      "Se está scrapeando la pag número 3\n",
      "Se está scrapeando la pag número 4\n",
      "Se está scrapeando la pag número 5\n",
      "Se está scrapeando la pag número 6\n",
      "Se está scrapeando la pag número 7\n",
      "Se está scrapeando la pag número 8\n",
      "Se está scrapeando la pag número 9\n",
      "Se está scrapeando la pag número 10\n",
      "Se está scrapeando la pag número 11\n",
      "Se está scrapeando la pag número 12\n",
      "Se está scrapeando la pag número 13\n",
      "Se está scrapeando la pag número 14\n",
      "Se está scrapeando la pag número 15\n",
      "Se está scrapeando la pag número 16\n",
      "Se está scrapeando la pag número 17\n",
      "Se está scrapeando la pag número 18\n",
      "Se está scrapeando la pag número 19\n",
      "Se está scrapeando la pag número 20\n",
      "Se está scrapeando la pag número 21\n",
      "Se está scrapeando la pag número 22\n",
      "Se está scrapeando la pag número 23\n",
      "Se está scrapeando la pag número 24\n",
      "Se está scrapeando la pag número 25\n",
      "Se está scrapeando la pag número 26\n",
      "Se está scrapeando la pag número 27\n",
      "Se está scrapeando la pag número 28\n",
      "Se está scrapeando la pag número 29\n",
      "Se está scrapeando la pag número 30\n",
      "Se está scrapeando la pag número 31\n",
      "Se está scrapeando la pag número 32\n",
      "Se está scrapeando la pag número 33\n",
      "Se está scrapeando la pag número 34\n",
      "Se está scrapeando la pag número 35\n",
      "Se está scrapeando la pag número 36\n",
      "Se está scrapeando la pag número 37\n",
      "Se está scrapeando la pag número 38\n",
      "Se está scrapeando la pag número 39\n",
      "Se está scrapeando la pag número 40\n",
      "Se está scrapeando la pag número 41\n",
      "Se está scrapeando la pag número 42\n",
      "Se está scrapeando la pag número 43\n",
      "Se está scrapeando la pag número 44\n",
      "Se está scrapeando la pag número 45\n",
      "Se está scrapeando la pag número 46\n",
      "Se está scrapeando la pag número 47\n",
      "Se está scrapeando la pag número 48\n",
      "Se está scrapeando la pag número 49\n"
     ]
    }
   ],
   "source": [
    "data=[]\n",
    "for indx, i in enumerate(links_entregar):\n",
    "    print(f'Se está scrapeando la pag número {indx}')\n",
    "    data.append(parser_content(i))"
   ]
  },
  {
   "cell_type": "code",
   "execution_count": 14,
   "id": "50d9eddc",
   "metadata": {},
   "outputs": [],
   "source": [
    "df=pd.DataFrame()\n",
    "for j in data:\n",
    "    df_uno = pd.DataFrame(j)\n",
    "    df=pd.concat([df,df_uno])"
   ]
  },
  {
   "cell_type": "code",
   "execution_count": 15,
   "id": "04312c30",
   "metadata": {
    "scrolled": true
   },
   "outputs": [
    {
     "data": {
      "text/html": [
       "<div>\n",
       "<style scoped>\n",
       "    .dataframe tbody tr th:only-of-type {\n",
       "        vertical-align: middle;\n",
       "    }\n",
       "\n",
       "    .dataframe tbody tr th {\n",
       "        vertical-align: top;\n",
       "    }\n",
       "\n",
       "    .dataframe thead th {\n",
       "        text-align: right;\n",
       "    }\n",
       "</style>\n",
       "<table border=\"1\" class=\"dataframe\">\n",
       "  <thead>\n",
       "    <tr style=\"text-align: right;\">\n",
       "      <th></th>\n",
       "      <th>Book title</th>\n",
       "      <th>Book price</th>\n",
       "    </tr>\n",
       "  </thead>\n",
       "  <tbody>\n",
       "    <tr>\n",
       "      <th>0</th>\n",
       "      <td>It's Only the Himalayas</td>\n",
       "      <td>£45.17</td>\n",
       "    </tr>\n",
       "    <tr>\n",
       "      <th>1</th>\n",
       "      <td>Full Moon over Noah’s ...</td>\n",
       "      <td>£49.43</td>\n",
       "    </tr>\n",
       "    <tr>\n",
       "      <th>2</th>\n",
       "      <td>See America: A Celebration ...</td>\n",
       "      <td>£48.87</td>\n",
       "    </tr>\n",
       "    <tr>\n",
       "      <th>3</th>\n",
       "      <td>Vagabonding: An Uncommon Guide ...</td>\n",
       "      <td>£36.94</td>\n",
       "    </tr>\n",
       "    <tr>\n",
       "      <th>4</th>\n",
       "      <td>Under the Tuscan Sun</td>\n",
       "      <td>£37.33</td>\n",
       "    </tr>\n",
       "  </tbody>\n",
       "</table>\n",
       "</div>"
      ],
      "text/plain": [
       "                           Book title Book price\n",
       "0             It's Only the Himalayas     £45.17\n",
       "1           Full Moon over Noah’s ...     £49.43\n",
       "2      See America: A Celebration ...     £48.87\n",
       "3  Vagabonding: An Uncommon Guide ...     £36.94\n",
       "4                Under the Tuscan Sun     £37.33"
      ]
     },
     "execution_count": 15,
     "metadata": {},
     "output_type": "execute_result"
    }
   ],
   "source": [
    "df.head()"
   ]
  },
  {
   "cell_type": "code",
   "execution_count": 16,
   "id": "ffc756b6",
   "metadata": {},
   "outputs": [
    {
     "data": {
      "text/html": [
       "<div>\n",
       "<style scoped>\n",
       "    .dataframe tbody tr th:only-of-type {\n",
       "        vertical-align: middle;\n",
       "    }\n",
       "\n",
       "    .dataframe tbody tr th {\n",
       "        vertical-align: top;\n",
       "    }\n",
       "\n",
       "    .dataframe thead th {\n",
       "        text-align: right;\n",
       "    }\n",
       "</style>\n",
       "<table border=\"1\" class=\"dataframe\">\n",
       "  <thead>\n",
       "    <tr style=\"text-align: right;\">\n",
       "      <th></th>\n",
       "      <th>Book title</th>\n",
       "      <th>Book price</th>\n",
       "    </tr>\n",
       "  </thead>\n",
       "  <tbody>\n",
       "    <tr>\n",
       "      <th>0</th>\n",
       "      <td>It's Only the Himalayas</td>\n",
       "      <td>£45.17</td>\n",
       "    </tr>\n",
       "    <tr>\n",
       "      <th>1</th>\n",
       "      <td>Full Moon over Noah’s ...</td>\n",
       "      <td>£49.43</td>\n",
       "    </tr>\n",
       "    <tr>\n",
       "      <th>2</th>\n",
       "      <td>See America: A Celebration ...</td>\n",
       "      <td>£48.87</td>\n",
       "    </tr>\n",
       "    <tr>\n",
       "      <th>3</th>\n",
       "      <td>Vagabonding: An Uncommon Guide ...</td>\n",
       "      <td>£36.94</td>\n",
       "    </tr>\n",
       "    <tr>\n",
       "      <th>4</th>\n",
       "      <td>Under the Tuscan Sun</td>\n",
       "      <td>£37.33</td>\n",
       "    </tr>\n",
       "    <tr>\n",
       "      <th>...</th>\n",
       "      <td>...</td>\n",
       "      <td>...</td>\n",
       "    </tr>\n",
       "    <tr>\n",
       "      <th>1</th>\n",
       "      <td>Why the Right Went ...</td>\n",
       "      <td>£52.65</td>\n",
       "    </tr>\n",
       "    <tr>\n",
       "      <th>2</th>\n",
       "      <td>Equal Is Unfair: America's ...</td>\n",
       "      <td>£56.86</td>\n",
       "    </tr>\n",
       "    <tr>\n",
       "      <th>0</th>\n",
       "      <td>Amid the Chaos</td>\n",
       "      <td>£36.58</td>\n",
       "    </tr>\n",
       "    <tr>\n",
       "      <th>0</th>\n",
       "      <td>Dark Notes</td>\n",
       "      <td>£19.19</td>\n",
       "    </tr>\n",
       "    <tr>\n",
       "      <th>0</th>\n",
       "      <td>The Long Shadow of ...</td>\n",
       "      <td>£10.97</td>\n",
       "    </tr>\n",
       "  </tbody>\n",
       "</table>\n",
       "<p>517 rows × 2 columns</p>\n",
       "</div>"
      ],
      "text/plain": [
       "                            Book title Book price\n",
       "0              It's Only the Himalayas     £45.17\n",
       "1            Full Moon over Noah’s ...     £49.43\n",
       "2       See America: A Celebration ...     £48.87\n",
       "3   Vagabonding: An Uncommon Guide ...     £36.94\n",
       "4                 Under the Tuscan Sun     £37.33\n",
       "..                                 ...        ...\n",
       "1               Why the Right Went ...     £52.65\n",
       "2       Equal Is Unfair: America's ...     £56.86\n",
       "0                       Amid the Chaos     £36.58\n",
       "0                           Dark Notes     £19.19\n",
       "0               The Long Shadow of ...     £10.97\n",
       "\n",
       "[517 rows x 2 columns]"
      ]
     },
     "execution_count": 16,
     "metadata": {},
     "output_type": "execute_result"
    }
   ],
   "source": [
    "df\n"
   ]
  },
  {
   "cell_type": "code",
   "execution_count": null,
   "id": "b03e42d3",
   "metadata": {},
   "outputs": [],
   "source": []
  }
 ],
 "metadata": {
  "kernelspec": {
   "display_name": "Python 3 (ipykernel)",
   "language": "python",
   "name": "python3"
  },
  "language_info": {
   "codemirror_mode": {
    "name": "ipython",
    "version": 3
   },
   "file_extension": ".py",
   "mimetype": "text/x-python",
   "name": "python",
   "nbconvert_exporter": "python",
   "pygments_lexer": "ipython3",
   "version": "3.9.12"
  }
 },
 "nbformat": 4,
 "nbformat_minor": 5
}
